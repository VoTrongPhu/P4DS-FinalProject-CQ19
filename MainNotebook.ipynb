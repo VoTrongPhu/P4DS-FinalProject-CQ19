{
 "cells": [
  {
   "cell_type": "markdown",
   "id": "8a0982b8-0073-4d57-9299-7fcc31265cc0",
   "metadata": {},
   "source": [
    "# Final Project"
   ]
  },
  {
   "cell_type": "markdown",
   "id": "46ad23c7-72dc-4dd0-963e-460872280b04",
   "metadata": {},
   "source": [
    "![stroke_image](stroke_image.png)"
   ]
  },
  {
   "cell_type": "markdown",
   "id": "e1cd2844-c39e-48e1-b65f-a96c262522c0",
   "metadata": {},
   "source": [
    "## 1. Thu nhập dữ liệu:"
   ]
  },
  {
   "cell_type": "markdown",
   "id": "7f59a455-32d4-47ee-bcfb-456d2490b597",
   "metadata": {},
   "source": [
    "Hôm nay, chúng ta sẽ tìm hiểu về 1 căn bệnh nằm trong top 10 căn bệnh gây tử vong hàng đầu đó chính là đột quỵ và các yếu tố ảnh hưởng đến đột quỵ. Từ đó có thể dự đoán sớm những người có nguy cơ mắc phải cũng như tìm ra điểm chung của những người này để có các biện pháp ngăn ngừa giúp giảm nguy cơ đột quỵ.\n",
    "\n",
    "Đột quỵ là gì?\n",
    "\n",
    "- Đột quỵ (tai biến mạch máu não) là tình trạng não bộ bị tổn thương nghiêm trọng, xảy ra khi dòng máu cung cấp cho não bị gián đoạn hoặc có một mạch máu trong não bị vỡ. Khi đó, lượng oxy và dinh dưỡng nuôi các tế bào não bị giảm đáng kể. Trong vòng vài phút, các tế bào não bắt đầu chết dần và gây ra nhiều biến chứng nguy hiểm đến tính mạng người bệnh. \n",
    "- Theo [thống kê của WHO](https://www.who.int/en/news-room/fact-sheets/detail/the-top-10-causes-of-death), đột quỵ đứng thứ 2 trong top 10 căn bệnh gây tử vong nhiều nhất. Nó gây ra cái chết của hơn 6 triệu người, chiếm hơn 11% tổng số ca tử vong trong cùng 1 năm. "
   ]
  },
  {
   "cell_type": "markdown",
   "id": "22613f11-8945-4545-9a54-bc412754e9b4",
   "metadata": {},
   "source": [
    "Dữ liệu được lấy từ [Stroke Prediction Dataset](https://www.kaggle.com/fedesoriano/stroke-prediction-dataset) trên kaggle của tác giả [fedesoriano](https://www.kaggle.com/fedesoriano).\n",
    "\n",
    "Với dữ liệu này, tác giả cho phép chúng ta sử dụng cho mục đích học tập. Còn nếu sử dụng cho mục đích khác như nghiên cứu, thì phải ghi nguồn tác giả. "
   ]
  },
  {
   "cell_type": "markdown",
   "id": "ebba72f4-c91f-43cd-8e4f-cf777381e283",
   "metadata": {},
   "source": [
    "## 2. Khám phá dữ liệu:"
   ]
  },
  {
   "cell_type": "markdown",
   "id": "d0ef5200-f19d-487f-9a65-3cfc7e125032",
   "metadata": {},
   "source": [
    "Đầu tiên ta sẽ đọc dữ liệu từ file"
   ]
  },
  {
   "cell_type": "code",
   "execution_count": 1,
   "id": "4c7cdff5-5477-4580-a862-2746f4932e98",
   "metadata": {},
   "outputs": [],
   "source": [
    "import pandas as pd\n",
    "import numpy as np\n",
    "import math"
   ]
  },
  {
   "cell_type": "markdown",
   "id": "b1303b61-d450-48c0-8eca-ca7d9ebc61da",
   "metadata": {},
   "source": [
    "Ta sẽ xem thử vài dòng đầu để có cái nhìn khái quát về dữ liệu."
   ]
  },
  {
   "cell_type": "code",
   "execution_count": 2,
   "id": "c7931865-6d6a-420c-a4ee-5190cbae7b5a",
   "metadata": {},
   "outputs": [
    {
     "data": {
      "text/html": [
       "<div>\n",
       "<style scoped>\n",
       "    .dataframe tbody tr th:only-of-type {\n",
       "        vertical-align: middle;\n",
       "    }\n",
       "\n",
       "    .dataframe tbody tr th {\n",
       "        vertical-align: top;\n",
       "    }\n",
       "\n",
       "    .dataframe thead th {\n",
       "        text-align: right;\n",
       "    }\n",
       "</style>\n",
       "<table border=\"1\" class=\"dataframe\">\n",
       "  <thead>\n",
       "    <tr style=\"text-align: right;\">\n",
       "      <th></th>\n",
       "      <th>id</th>\n",
       "      <th>gender</th>\n",
       "      <th>age</th>\n",
       "      <th>hypertension</th>\n",
       "      <th>heart_disease</th>\n",
       "      <th>ever_married</th>\n",
       "      <th>work_type</th>\n",
       "      <th>Residence_type</th>\n",
       "      <th>avg_glucose_level</th>\n",
       "      <th>bmi</th>\n",
       "      <th>smoking_status</th>\n",
       "      <th>stroke</th>\n",
       "    </tr>\n",
       "  </thead>\n",
       "  <tbody>\n",
       "    <tr>\n",
       "      <th>0</th>\n",
       "      <td>9046</td>\n",
       "      <td>Male</td>\n",
       "      <td>67.0</td>\n",
       "      <td>0</td>\n",
       "      <td>1</td>\n",
       "      <td>Yes</td>\n",
       "      <td>Private</td>\n",
       "      <td>Urban</td>\n",
       "      <td>228.69</td>\n",
       "      <td>36.6</td>\n",
       "      <td>formerly smoked</td>\n",
       "      <td>1</td>\n",
       "    </tr>\n",
       "    <tr>\n",
       "      <th>1</th>\n",
       "      <td>51676</td>\n",
       "      <td>Female</td>\n",
       "      <td>61.0</td>\n",
       "      <td>0</td>\n",
       "      <td>0</td>\n",
       "      <td>Yes</td>\n",
       "      <td>Self-employed</td>\n",
       "      <td>Rural</td>\n",
       "      <td>202.21</td>\n",
       "      <td>NaN</td>\n",
       "      <td>never smoked</td>\n",
       "      <td>1</td>\n",
       "    </tr>\n",
       "    <tr>\n",
       "      <th>2</th>\n",
       "      <td>31112</td>\n",
       "      <td>Male</td>\n",
       "      <td>80.0</td>\n",
       "      <td>0</td>\n",
       "      <td>1</td>\n",
       "      <td>Yes</td>\n",
       "      <td>Private</td>\n",
       "      <td>Rural</td>\n",
       "      <td>105.92</td>\n",
       "      <td>32.5</td>\n",
       "      <td>never smoked</td>\n",
       "      <td>1</td>\n",
       "    </tr>\n",
       "    <tr>\n",
       "      <th>3</th>\n",
       "      <td>60182</td>\n",
       "      <td>Female</td>\n",
       "      <td>49.0</td>\n",
       "      <td>0</td>\n",
       "      <td>0</td>\n",
       "      <td>Yes</td>\n",
       "      <td>Private</td>\n",
       "      <td>Urban</td>\n",
       "      <td>171.23</td>\n",
       "      <td>34.4</td>\n",
       "      <td>smokes</td>\n",
       "      <td>1</td>\n",
       "    </tr>\n",
       "    <tr>\n",
       "      <th>4</th>\n",
       "      <td>1665</td>\n",
       "      <td>Female</td>\n",
       "      <td>79.0</td>\n",
       "      <td>1</td>\n",
       "      <td>0</td>\n",
       "      <td>Yes</td>\n",
       "      <td>Self-employed</td>\n",
       "      <td>Rural</td>\n",
       "      <td>174.12</td>\n",
       "      <td>24.0</td>\n",
       "      <td>never smoked</td>\n",
       "      <td>1</td>\n",
       "    </tr>\n",
       "  </tbody>\n",
       "</table>\n",
       "</div>"
      ],
      "text/plain": [
       "      id  gender   age  hypertension  heart_disease ever_married  \\\n",
       "0   9046    Male  67.0             0              1          Yes   \n",
       "1  51676  Female  61.0             0              0          Yes   \n",
       "2  31112    Male  80.0             0              1          Yes   \n",
       "3  60182  Female  49.0             0              0          Yes   \n",
       "4   1665  Female  79.0             1              0          Yes   \n",
       "\n",
       "       work_type Residence_type  avg_glucose_level   bmi   smoking_status  \\\n",
       "0        Private          Urban             228.69  36.6  formerly smoked   \n",
       "1  Self-employed          Rural             202.21   NaN     never smoked   \n",
       "2        Private          Rural             105.92  32.5     never smoked   \n",
       "3        Private          Urban             171.23  34.4           smokes   \n",
       "4  Self-employed          Rural             174.12  24.0     never smoked   \n",
       "\n",
       "   stroke  \n",
       "0       1  \n",
       "1       1  \n",
       "2       1  \n",
       "3       1  \n",
       "4       1  "
      ]
     },
     "execution_count": 2,
     "metadata": {},
     "output_type": "execute_result"
    }
   ],
   "source": [
    "df=pd.read_csv(\"healthcare-dataset-stroke-data.csv\")\n",
    "df.head()"
   ]
  },
  {
   "cell_type": "markdown",
   "id": "fafaf3b9-44cf-4ab7-8f06-ffd21d6a55ff",
   "metadata": {},
   "source": [
    "### Dữ liệu có bao nhiêu dòng và bao nhiêu cột?"
   ]
  },
  {
   "cell_type": "code",
   "execution_count": 3,
   "id": "76380ad8-5423-4097-a780-ef930dbbcd5b",
   "metadata": {},
   "outputs": [
    {
     "data": {
      "text/plain": [
       "(5110, 12)"
      ]
     },
     "execution_count": 3,
     "metadata": {},
     "output_type": "execute_result"
    }
   ],
   "source": [
    "df.shape"
   ]
  },
  {
   "cell_type": "markdown",
   "id": "85a087a8-0268-42a3-b7eb-167a587688df",
   "metadata": {},
   "source": [
    "Dữ liệu có 5110 dòng và 12 cột.\n",
    "\n",
    "### Mỗi dòng có ý nghĩa gì? Có vấn đề các dòng có ý nghĩa khác nhau không?\n",
    "\n",
    "Mỗi dòng biểu diễn cho thông tin liên quan của mỗi một bệnh nhân. Nhìn thì ta có thể thấy các dòng không có gì bất thường\n",
    "\n",
    "### Ý nghĩa của mỗi cột:\n",
    "- id: Mã định danh của mỗi người\n",
    "- gender: Giới tính (\"Male\", \"Female\", \"Other\")\n",
    "- age: Tuổi của bệnh nhân\n",
    "- hypertension: Bệnh nhân có bị cao huyết áp không (0: Không, 1: Có)\n",
    "- heart_disease: Bệnh nhân có bị bệnh tim không (0: Không, 1: Có)\n",
    "- ever_married: Đã kết hôn chưa (\"No\",\"Yes\")\n",
    "- work_type: Loại công việc (\"Children\", \"Govt_jov\", \"Never_worked\", \"Private\" or \"Self-employed\")\n",
    "- Residence_type: Khu vực cư trú (\"Rural\": Nông thôn, \"Urban\": Đô thị)\n",
    "- avg_glucose_level: Nồng độ đường trong máu\n",
    "- bmi: Chỉ số bmi của cơ thể\n",
    "- smoking_status: Tình trạng hút thuốc (\"formerly smoked\": Trước đây có hút thuốc nhưng giờ bỏ rồi, \"never smoked\": Chưa bao giờ hút, \"smokes\": Hút thuốc, \"Unknown\": Không có thông tin)\n",
    "- stroke: Bệnh nhân có bị đột quỵ không (0: Không, 1: Có)"
   ]
  },
  {
   "cell_type": "markdown",
   "id": "caeb182a-260c-466f-bc27-c651bce2e00f",
   "metadata": {},
   "source": [
    "### Dữ liệu có các dòng bị lặp không?"
   ]
  },
  {
   "cell_type": "code",
   "execution_count": 4,
   "id": "c0b95f9a-684f-4bdc-9cbd-0b84f5220c64",
   "metadata": {},
   "outputs": [
    {
     "data": {
      "text/plain": [
       "False"
      ]
     },
     "execution_count": 4,
     "metadata": {},
     "output_type": "execute_result"
    }
   ],
   "source": [
    "have_duplicated_rows=any(df.duplicated())\n",
    "have_duplicated_rows"
   ]
  },
  {
   "cell_type": "markdown",
   "id": "18a0d8ec-11ef-4511-9b0d-970e957c7eb6",
   "metadata": {},
   "source": [
    "### Mỗi cột hiện đang có kiểu dữ liệu gì? Có cột nào có kiểu dữ liệu chưa phù hợp để có thể xử lý tiếp không?"
   ]
  },
  {
   "cell_type": "code",
   "execution_count": 5,
   "id": "35530cba-06f4-462b-b162-0f02dfd0b897",
   "metadata": {},
   "outputs": [
    {
     "data": {
      "text/plain": [
       "id                     int64\n",
       "gender                object\n",
       "age                  float64\n",
       "hypertension           int64\n",
       "heart_disease          int64\n",
       "ever_married          object\n",
       "work_type             object\n",
       "Residence_type        object\n",
       "avg_glucose_level    float64\n",
       "bmi                  float64\n",
       "smoking_status        object\n",
       "stroke                 int64\n",
       "dtype: object"
      ]
     },
     "execution_count": 5,
     "metadata": {},
     "output_type": "execute_result"
    }
   ],
   "source": [
    "df.dtypes"
   ]
  },
  {
   "cell_type": "markdown",
   "id": "8b789451-8e61-4c0c-9168-583c2f72ce5f",
   "metadata": {},
   "source": [
    "Ta thấy có vẻ cột age hơi bất thường vì tuổi phải là 1 số nguyên, không thể là kiểu float được. còn lại thì các cột khác đều có kiểu dữ liệu phù hợp.\n",
    "\n",
    "Tí nữa ta sẽ tiền xử lý cột age ngay dưới đây"
   ]
  },
  {
   "cell_type": "markdown",
   "id": "35a3e5fd-0317-4a13-9144-113918ec6143",
   "metadata": {},
   "source": [
    "### Với mỗi cột có kiểu dữ liệu dạng số (numerical), các giá trị được phân bố như thế nào?"
   ]
  },
  {
   "cell_type": "markdown",
   "id": "1d360213-5f87-43a6-ad11-27f521487154",
   "metadata": {},
   "source": [
    "Hiện có vẻ có 7 cột thuộc nhóm numeric là: \"id\",\"age\",\"hypertension\",\"heart_disease\",\"avg_glucose_level\",\"bmi\" và \"stroke\". Tuy nhiên, 4 cột \"id\",\"hypertension\",\"heart_disease\" và \"stroke\" thật ra là dạng categorical( vì là mã được đánh dưới dạng số). Như vậy chỉ có 3 cột thuộc numeric là \"age\",\"avg_glucose_level\" và \"bmi\"\n",
    "\n",
    "Với mỗi cột ta sẽ tính tỉ lệ % giá trị thiếu, min và max và lưu vào dataframe nume_col_profiles_df."
   ]
  },
  {
   "cell_type": "code",
   "execution_count": 6,
   "id": "7e6cff83-3b29-405f-9071-531176302890",
   "metadata": {},
   "outputs": [
    {
     "data": {
      "text/html": [
       "<div>\n",
       "<style scoped>\n",
       "    .dataframe tbody tr th:only-of-type {\n",
       "        vertical-align: middle;\n",
       "    }\n",
       "\n",
       "    .dataframe tbody tr th {\n",
       "        vertical-align: top;\n",
       "    }\n",
       "\n",
       "    .dataframe thead th {\n",
       "        text-align: right;\n",
       "    }\n",
       "</style>\n",
       "<table border=\"1\" class=\"dataframe\">\n",
       "  <thead>\n",
       "    <tr style=\"text-align: right;\">\n",
       "      <th></th>\n",
       "      <th>age</th>\n",
       "      <th>avg_glucose_level</th>\n",
       "      <th>bmi</th>\n",
       "    </tr>\n",
       "  </thead>\n",
       "  <tbody>\n",
       "    <tr>\n",
       "      <th>missing_ratio</th>\n",
       "      <td>0.00</td>\n",
       "      <td>0.00</td>\n",
       "      <td>3.933464</td>\n",
       "    </tr>\n",
       "    <tr>\n",
       "      <th>min</th>\n",
       "      <td>0.08</td>\n",
       "      <td>55.12</td>\n",
       "      <td>10.300000</td>\n",
       "    </tr>\n",
       "    <tr>\n",
       "      <th>max</th>\n",
       "      <td>82.00</td>\n",
       "      <td>271.74</td>\n",
       "      <td>97.600000</td>\n",
       "    </tr>\n",
       "  </tbody>\n",
       "</table>\n",
       "</div>"
      ],
      "text/plain": [
       "                 age  avg_glucose_level        bmi\n",
       "missing_ratio   0.00               0.00   3.933464\n",
       "min             0.08              55.12  10.300000\n",
       "max            82.00             271.74  97.600000"
      ]
     },
     "execution_count": 6,
     "metadata": {},
     "output_type": "execute_result"
    }
   ],
   "source": [
    "def missing_ratio(s):\n",
    "    return s.isna().mean()*100\n",
    "nume_col_profiles_df=df[[\"age\",\"avg_glucose_level\",\"bmi\"]].agg([missing_ratio,min,max])\n",
    "nume_col_profiles_df"
   ]
  },
  {
   "cell_type": "markdown",
   "id": "f4ccbd6b-8c15-49ad-bec0-a301c82ae89e",
   "metadata": {},
   "source": [
    "Ta thấy rằng các cột \"age\" và \"avg_glucose_level\" đều có đủ giá trị, chỉ có cột \"bmi\" là thiếu gần 4% giá trị. Còn min max chỉ có 1 điểm bất thường là min của cột age là 0.08 (tuổi không thể là số thực như vậy được)\n",
    "\n",
    "Giờ ta đã xuất hiện 1 vấn đề cần tiền xử lý đó là cột age xuất hiện những giá trị số thực. \n",
    "\n",
    "---"
   ]
  },
  {
   "cell_type": "markdown",
   "id": "e12f415e-3368-4997-bef0-93d7daa01fc5",
   "metadata": {},
   "source": [
    "## Tiền xử lý"
   ]
  },
  {
   "cell_type": "markdown",
   "id": "3e2023c1-dfeb-4e1c-b011-f17196e01ef4",
   "metadata": {},
   "source": [
    "Theo như tìm hiểu thì các giá trị age là số thực đều là của những đứa trẻ dưới 3 tuổi. Vì còn nhỏ tuổi, nên người ta tính thêm cả tháng tuổi từ đó dẫn đến số tuổi không nguyên. 1 cách để tiền xử lý là ta có thể làm tròn số tuổi của những đứa trẻ này lên, rồi sau đó ta sẽ đổi kiểu dữ liệu của cột age này về kiểu int."
   ]
  },
  {
   "cell_type": "code",
   "execution_count": 7,
   "id": "540daae8-1e17-43dd-8e46-aef2d96d53e6",
   "metadata": {},
   "outputs": [],
   "source": [
    "df['age']=df['age'].apply(math.ceil)\n",
    "df['age']=df['age'].astype(\"int\")"
   ]
  },
  {
   "cell_type": "markdown",
   "id": "0c6a158d-3e90-4a12-ad0a-0ffb426e5028",
   "metadata": {},
   "source": [
    "### Giờ ta sẽ xem lại thử kiểu dữ liệu cột age đã là \"int\" và các giá trị phân bố trong age đúng chưa?"
   ]
  },
  {
   "cell_type": "code",
   "execution_count": 8,
   "id": "509a9207-0a4e-44c8-993f-8db1b8041184",
   "metadata": {},
   "outputs": [
    {
     "data": {
      "text/plain": [
       "id                     int64\n",
       "gender                object\n",
       "age                    int64\n",
       "hypertension           int64\n",
       "heart_disease          int64\n",
       "ever_married          object\n",
       "work_type             object\n",
       "Residence_type        object\n",
       "avg_glucose_level    float64\n",
       "bmi                  float64\n",
       "smoking_status        object\n",
       "stroke                 int64\n",
       "dtype: object"
      ]
     },
     "execution_count": 8,
     "metadata": {},
     "output_type": "execute_result"
    }
   ],
   "source": [
    "df.dtypes"
   ]
  },
  {
   "cell_type": "code",
   "execution_count": 9,
   "id": "53293f5e-c163-4d3f-b9ca-bcfba2389345",
   "metadata": {},
   "outputs": [
    {
     "data": {
      "text/html": [
       "<div>\n",
       "<style scoped>\n",
       "    .dataframe tbody tr th:only-of-type {\n",
       "        vertical-align: middle;\n",
       "    }\n",
       "\n",
       "    .dataframe tbody tr th {\n",
       "        vertical-align: top;\n",
       "    }\n",
       "\n",
       "    .dataframe thead th {\n",
       "        text-align: right;\n",
       "    }\n",
       "</style>\n",
       "<table border=\"1\" class=\"dataframe\">\n",
       "  <thead>\n",
       "    <tr style=\"text-align: right;\">\n",
       "      <th></th>\n",
       "      <th>age</th>\n",
       "      <th>avg_glucose_level</th>\n",
       "      <th>bmi</th>\n",
       "    </tr>\n",
       "  </thead>\n",
       "  <tbody>\n",
       "    <tr>\n",
       "      <th>missing_ratio</th>\n",
       "      <td>0.0</td>\n",
       "      <td>0.00</td>\n",
       "      <td>3.933464</td>\n",
       "    </tr>\n",
       "    <tr>\n",
       "      <th>min</th>\n",
       "      <td>1.0</td>\n",
       "      <td>55.12</td>\n",
       "      <td>10.300000</td>\n",
       "    </tr>\n",
       "    <tr>\n",
       "      <th>max</th>\n",
       "      <td>82.0</td>\n",
       "      <td>271.74</td>\n",
       "      <td>97.600000</td>\n",
       "    </tr>\n",
       "  </tbody>\n",
       "</table>\n",
       "</div>"
      ],
      "text/plain": [
       "                age  avg_glucose_level        bmi\n",
       "missing_ratio   0.0               0.00   3.933464\n",
       "min             1.0              55.12  10.300000\n",
       "max            82.0             271.74  97.600000"
      ]
     },
     "execution_count": 9,
     "metadata": {},
     "output_type": "execute_result"
    }
   ],
   "source": [
    "nume_col_profiles_df=df[[\"age\",\"avg_glucose_level\",\"bmi\"]].agg([missing_ratio,min,max])\n",
    "nume_col_profiles_df"
   ]
  },
  {
   "cell_type": "markdown",
   "id": "b2ced779-0467-4eaf-a13b-79a2accdab8b",
   "metadata": {},
   "source": [
    "Nhìn qua thì ta thấy mọi thứ đã ổn"
   ]
  },
  {
   "cell_type": "markdown",
   "id": "b1768cce-df2b-40ba-af96-c24a2d72169b",
   "metadata": {},
   "source": [
    "## Khám phá dữ liệu (tiếp tục)"
   ]
  },
  {
   "cell_type": "markdown",
   "id": "b8c25b70-e4df-481d-8e8d-ac30fe813ae1",
   "metadata": {},
   "source": [
    "### Với mỗi cột có kiểu dữ liệu dạng phân loại (categorical), các giá trị được phân bố như thế nào?"
   ]
  },
  {
   "cell_type": "markdown",
   "id": "29e3f0c8-1235-46f3-8a9a-b55b2c05f852",
   "metadata": {},
   "source": [
    "df có 9 cột kiểu categorical là: \"id\",\"hypertension\",\"heart_disease\",\"stroke\",\"gender\",\"work_type\",\"ever_married\",\"smoking_status\" và \"Residence_type\".\n",
    "\n",
    "Ở mỗi cột categorical, ta sẽ tính tỉ lệ % giá trị thiếu, số lượng khác nhau và show ra các giá trị khác nhau (không tính giá trị thiếu)."
   ]
  },
  {
   "cell_type": "code",
   "execution_count": 10,
   "id": "e03d4873-f3d2-43ee-b605-d8ad5f747069",
   "metadata": {},
   "outputs": [
    {
     "data": {
      "text/html": [
       "<div>\n",
       "<style scoped>\n",
       "    .dataframe tbody tr th:only-of-type {\n",
       "        vertical-align: middle;\n",
       "    }\n",
       "\n",
       "    .dataframe tbody tr th {\n",
       "        vertical-align: top;\n",
       "    }\n",
       "\n",
       "    .dataframe thead th {\n",
       "        text-align: right;\n",
       "    }\n",
       "</style>\n",
       "<table border=\"1\" class=\"dataframe\">\n",
       "  <thead>\n",
       "    <tr style=\"text-align: right;\">\n",
       "      <th></th>\n",
       "      <th>id</th>\n",
       "      <th>hypertension</th>\n",
       "      <th>heart_disease</th>\n",
       "      <th>stroke</th>\n",
       "      <th>gender</th>\n",
       "      <th>work_type</th>\n",
       "      <th>Residence_type</th>\n",
       "      <th>ever_married</th>\n",
       "      <th>smoking_status</th>\n",
       "    </tr>\n",
       "  </thead>\n",
       "  <tbody>\n",
       "    <tr>\n",
       "      <th>missing_ratio</th>\n",
       "      <td>0.0</td>\n",
       "      <td>0.0</td>\n",
       "      <td>0.0</td>\n",
       "      <td>0.0</td>\n",
       "      <td>0.0</td>\n",
       "      <td>0.0</td>\n",
       "      <td>0.0</td>\n",
       "      <td>0.0</td>\n",
       "      <td>0.0</td>\n",
       "    </tr>\n",
       "    <tr>\n",
       "      <th>num_diff_vals</th>\n",
       "      <td>5110</td>\n",
       "      <td>2</td>\n",
       "      <td>2</td>\n",
       "      <td>2</td>\n",
       "      <td>3</td>\n",
       "      <td>5</td>\n",
       "      <td>2</td>\n",
       "      <td>2</td>\n",
       "      <td>4</td>\n",
       "    </tr>\n",
       "    <tr>\n",
       "      <th>diff_vals</th>\n",
       "      <td>[9046, 51676, 31112, 60182, 1665, 56669, 53882...</td>\n",
       "      <td>[0, 1]</td>\n",
       "      <td>[1, 0]</td>\n",
       "      <td>[1, 0]</td>\n",
       "      <td>[Male, Female, Other]</td>\n",
       "      <td>[Private, Self-employed, Govt_job, children, N...</td>\n",
       "      <td>[Urban, Rural]</td>\n",
       "      <td>[Yes, No]</td>\n",
       "      <td>[formerly smoked, never smoked, smokes, Unknown]</td>\n",
       "    </tr>\n",
       "  </tbody>\n",
       "</table>\n",
       "</div>"
      ],
      "text/plain": [
       "                                                              id hypertension  \\\n",
       "missing_ratio                                                0.0          0.0   \n",
       "num_diff_vals                                               5110            2   \n",
       "diff_vals      [9046, 51676, 31112, 60182, 1665, 56669, 53882...       [0, 1]   \n",
       "\n",
       "              heart_disease  stroke                 gender  \\\n",
       "missing_ratio           0.0     0.0                    0.0   \n",
       "num_diff_vals             2       2                      3   \n",
       "diff_vals            [1, 0]  [1, 0]  [Male, Female, Other]   \n",
       "\n",
       "                                                       work_type  \\\n",
       "missing_ratio                                                0.0   \n",
       "num_diff_vals                                                  5   \n",
       "diff_vals      [Private, Self-employed, Govt_job, children, N...   \n",
       "\n",
       "               Residence_type ever_married  \\\n",
       "missing_ratio             0.0          0.0   \n",
       "num_diff_vals               2            2   \n",
       "diff_vals      [Urban, Rural]    [Yes, No]   \n",
       "\n",
       "                                                 smoking_status  \n",
       "missing_ratio                                               0.0  \n",
       "num_diff_vals                                                 4  \n",
       "diff_vals      [formerly smoked, never smoked, smokes, Unknown]  "
      ]
     },
     "execution_count": 10,
     "metadata": {},
     "output_type": "execute_result"
    }
   ],
   "source": [
    "def num_diff_vals(s):\n",
    "    return s.nunique()\n",
    "def diff_vals(s):\n",
    "    return s.dropna().unique()\n",
    "cate_df=df[[\"id\",\"hypertension\",\"heart_disease\",\"stroke\",\"gender\",\"work_type\",\"Residence_type\",\"ever_married\",\"smoking_status\"]]\n",
    "cate_col_profiles_df=cate_df.agg([missing_ratio,num_diff_vals,diff_vals])\n",
    "cate_col_profiles_df"
   ]
  },
  {
   "cell_type": "markdown",
   "id": "0aa1ac56-acda-464c-99f3-6246989178f4",
   "metadata": {},
   "source": [
    "*Ta có thể thấy không có cột nào thiếu giá trị. Số lượng giá trị khác nhau và các giá trị khác nhau cũng không có gì bất thường*"
   ]
  },
  {
   "cell_type": "code",
   "execution_count": null,
   "id": "781d4f44-fa97-4f89-9c66-ab2578a714b9",
   "metadata": {},
   "outputs": [],
   "source": []
  }
 ],
 "metadata": {
  "kernelspec": {
   "display_name": "Python 3 (ipykernel)",
   "language": "python",
   "name": "python3"
  },
  "language_info": {
   "codemirror_mode": {
    "name": "ipython",
    "version": 3
   },
   "file_extension": ".py",
   "mimetype": "text/x-python",
   "name": "python",
   "nbconvert_exporter": "python",
   "pygments_lexer": "ipython3",
   "version": "3.8.8"
  }
 },
 "nbformat": 4,
 "nbformat_minor": 5
}
