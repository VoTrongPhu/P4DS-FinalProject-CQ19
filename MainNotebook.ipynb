{
 "cells": [
  {
   "cell_type": "markdown",
   "id": "8a0982b8-0073-4d57-9299-7fcc31265cc0",
   "metadata": {},
   "source": [
    "# Final Project"
   ]
  },
  {
   "cell_type": "markdown",
   "id": "46ad23c7-72dc-4dd0-963e-460872280b04",
   "metadata": {},
   "source": [
    "![stroke_image](stroke_image.png)"
   ]
  },
  {
   "cell_type": "markdown",
   "id": "e1cd2844-c39e-48e1-b65f-a96c262522c0",
   "metadata": {},
   "source": [
    "## 1. Thu nhập dữ liệu:"
   ]
  },
  {
   "cell_type": "markdown",
   "id": "7f59a455-32d4-47ee-bcfb-456d2490b597",
   "metadata": {},
   "source": [
    "Hôm nay, chúng ta sẽ tìm hiểu về 1 căn bệnh nằm trong top 10 căn bệnh gây tử vong hàng đầu đó chính là đột quỵ và các yếu tố ảnh hưởng đến đột quỵ. Từ đó có thể dự đoán sớm những người có nguy cơ mắc phải cũng như tìm ra điểm chung của những người này để có các biện pháp ngăn ngừa giúp giảm nguy cơ đột quỵ.\n",
    "\n",
    "Đột quỵ là gì?\n",
    "\n",
    "- Đột quỵ (tai biến mạch máu não) là tình trạng não bộ bị tổn thương nghiêm trọng, xảy ra khi dòng máu cung cấp cho não bị gián đoạn hoặc có một mạch máu trong não bị vỡ. Khi đó, lượng oxy và dinh dưỡng nuôi các tế bào não bị giảm đáng kể. Trong vòng vài phút, các tế bào não bắt đầu chết dần và gây ra nhiều biến chứng nguy hiểm đến tính mạng người bệnh. \n",
    "- Theo [thống kê của WHO](https://www.who.int/en/news-room/fact-sheets/detail/the-top-10-causes-of-death), đột quỵ đứng thứ 2 trong top 10 căn bệnh gây tử vong nhiều nhất. Nó gây ra cái chết của hơn 6 triệu người, chiếm hơn 11% tổng số ca tử vong trong cùng 1 năm. "
   ]
  },
  {
   "cell_type": "markdown",
   "id": "22613f11-8945-4545-9a54-bc412754e9b4",
   "metadata": {},
   "source": [
    "Dữ liệu được lấy từ [Stroke Prediction Dataset](https://www.kaggle.com/fedesoriano/stroke-prediction-dataset) trên kaggle của tác giả [fedesoriano](https://www.kaggle.com/fedesoriano).\n",
    "\n",
    "Với dữ liệu này, tác giả cho phép chúng ta sử dụng cho mục đích học tập. Còn nếu sử dụng cho mục đích khác như nghiên cứu, thì phải ghi nguồn tác giả. "
   ]
  },
  {
   "cell_type": "markdown",
   "id": "ebba72f4-c91f-43cd-8e4f-cf777381e283",
   "metadata": {},
   "source": [
    "## 2. Khám phá dữ liệu:"
   ]
  },
  {
   "cell_type": "markdown",
   "id": "d0ef5200-f19d-487f-9a65-3cfc7e125032",
   "metadata": {},
   "source": [
    "Đầu tiên ta sẽ đọc dữ liệu từ file"
   ]
  },
  {
   "cell_type": "code",
   "execution_count": 1,
   "id": "4c7cdff5-5477-4580-a862-2746f4932e98",
   "metadata": {},
   "outputs": [],
   "source": [
    "import pandas as pd\n",
    "import numpy as np\n",
    "import math\n",
    "import matplotlib.pyplot as plt"
   ]
  },
  {
   "cell_type": "markdown",
   "id": "b1303b61-d450-48c0-8eca-ca7d9ebc61da",
   "metadata": {},
   "source": [
    "Ta sẽ xem thử vài dòng đầu để có cái nhìn khái quát về dữ liệu."
   ]
  },
  {
   "cell_type": "code",
   "execution_count": 2,
   "id": "c7931865-6d6a-420c-a4ee-5190cbae7b5a",
   "metadata": {},
   "outputs": [
    {
     "data": {
      "text/html": [
       "<div>\n",
       "<style scoped>\n",
       "    .dataframe tbody tr th:only-of-type {\n",
       "        vertical-align: middle;\n",
       "    }\n",
       "\n",
       "    .dataframe tbody tr th {\n",
       "        vertical-align: top;\n",
       "    }\n",
       "\n",
       "    .dataframe thead th {\n",
       "        text-align: right;\n",
       "    }\n",
       "</style>\n",
       "<table border=\"1\" class=\"dataframe\">\n",
       "  <thead>\n",
       "    <tr style=\"text-align: right;\">\n",
       "      <th></th>\n",
       "      <th>id</th>\n",
       "      <th>gender</th>\n",
       "      <th>age</th>\n",
       "      <th>hypertension</th>\n",
       "      <th>heart_disease</th>\n",
       "      <th>ever_married</th>\n",
       "      <th>work_type</th>\n",
       "      <th>Residence_type</th>\n",
       "      <th>avg_glucose_level</th>\n",
       "      <th>bmi</th>\n",
       "      <th>smoking_status</th>\n",
       "      <th>stroke</th>\n",
       "    </tr>\n",
       "  </thead>\n",
       "  <tbody>\n",
       "    <tr>\n",
       "      <th>0</th>\n",
       "      <td>9046</td>\n",
       "      <td>Male</td>\n",
       "      <td>67.0</td>\n",
       "      <td>0</td>\n",
       "      <td>1</td>\n",
       "      <td>Yes</td>\n",
       "      <td>Private</td>\n",
       "      <td>Urban</td>\n",
       "      <td>228.69</td>\n",
       "      <td>36.6</td>\n",
       "      <td>formerly smoked</td>\n",
       "      <td>1</td>\n",
       "    </tr>\n",
       "    <tr>\n",
       "      <th>1</th>\n",
       "      <td>51676</td>\n",
       "      <td>Female</td>\n",
       "      <td>61.0</td>\n",
       "      <td>0</td>\n",
       "      <td>0</td>\n",
       "      <td>Yes</td>\n",
       "      <td>Self-employed</td>\n",
       "      <td>Rural</td>\n",
       "      <td>202.21</td>\n",
       "      <td>NaN</td>\n",
       "      <td>never smoked</td>\n",
       "      <td>1</td>\n",
       "    </tr>\n",
       "    <tr>\n",
       "      <th>2</th>\n",
       "      <td>31112</td>\n",
       "      <td>Male</td>\n",
       "      <td>80.0</td>\n",
       "      <td>0</td>\n",
       "      <td>1</td>\n",
       "      <td>Yes</td>\n",
       "      <td>Private</td>\n",
       "      <td>Rural</td>\n",
       "      <td>105.92</td>\n",
       "      <td>32.5</td>\n",
       "      <td>never smoked</td>\n",
       "      <td>1</td>\n",
       "    </tr>\n",
       "    <tr>\n",
       "      <th>3</th>\n",
       "      <td>60182</td>\n",
       "      <td>Female</td>\n",
       "      <td>49.0</td>\n",
       "      <td>0</td>\n",
       "      <td>0</td>\n",
       "      <td>Yes</td>\n",
       "      <td>Private</td>\n",
       "      <td>Urban</td>\n",
       "      <td>171.23</td>\n",
       "      <td>34.4</td>\n",
       "      <td>smokes</td>\n",
       "      <td>1</td>\n",
       "    </tr>\n",
       "    <tr>\n",
       "      <th>4</th>\n",
       "      <td>1665</td>\n",
       "      <td>Female</td>\n",
       "      <td>79.0</td>\n",
       "      <td>1</td>\n",
       "      <td>0</td>\n",
       "      <td>Yes</td>\n",
       "      <td>Self-employed</td>\n",
       "      <td>Rural</td>\n",
       "      <td>174.12</td>\n",
       "      <td>24.0</td>\n",
       "      <td>never smoked</td>\n",
       "      <td>1</td>\n",
       "    </tr>\n",
       "  </tbody>\n",
       "</table>\n",
       "</div>"
      ],
      "text/plain": [
       "      id  gender   age  hypertension  heart_disease ever_married  \\\n",
       "0   9046    Male  67.0             0              1          Yes   \n",
       "1  51676  Female  61.0             0              0          Yes   \n",
       "2  31112    Male  80.0             0              1          Yes   \n",
       "3  60182  Female  49.0             0              0          Yes   \n",
       "4   1665  Female  79.0             1              0          Yes   \n",
       "\n",
       "       work_type Residence_type  avg_glucose_level   bmi   smoking_status  \\\n",
       "0        Private          Urban             228.69  36.6  formerly smoked   \n",
       "1  Self-employed          Rural             202.21   NaN     never smoked   \n",
       "2        Private          Rural             105.92  32.5     never smoked   \n",
       "3        Private          Urban             171.23  34.4           smokes   \n",
       "4  Self-employed          Rural             174.12  24.0     never smoked   \n",
       "\n",
       "   stroke  \n",
       "0       1  \n",
       "1       1  \n",
       "2       1  \n",
       "3       1  \n",
       "4       1  "
      ]
     },
     "execution_count": 2,
     "metadata": {},
     "output_type": "execute_result"
    }
   ],
   "source": [
    "df=pd.read_csv(\"healthcare-dataset-stroke-data.csv\")\n",
    "df.head()"
   ]
  },
  {
   "cell_type": "markdown",
   "id": "fafaf3b9-44cf-4ab7-8f06-ffd21d6a55ff",
   "metadata": {},
   "source": [
    "### Dữ liệu có bao nhiêu dòng và bao nhiêu cột?"
   ]
  },
  {
   "cell_type": "code",
   "execution_count": 3,
   "id": "76380ad8-5423-4097-a780-ef930dbbcd5b",
   "metadata": {},
   "outputs": [
    {
     "data": {
      "text/plain": [
       "(5110, 12)"
      ]
     },
     "execution_count": 3,
     "metadata": {},
     "output_type": "execute_result"
    }
   ],
   "source": [
    "df.shape"
   ]
  },
  {
   "cell_type": "markdown",
   "id": "85a087a8-0268-42a3-b7eb-167a587688df",
   "metadata": {},
   "source": [
    "Dữ liệu có 5110 dòng và 12 cột.\n",
    "\n",
    "### Mỗi dòng có ý nghĩa gì? Có vấn đề các dòng có ý nghĩa khác nhau không?\n",
    "\n",
    "Mỗi dòng biểu diễn cho thông tin liên quan của mỗi một bệnh nhân. Nhìn thì ta có thể thấy các dòng không có gì bất thường\n",
    "\n",
    "### Ý nghĩa của mỗi cột:\n",
    "- id: Mã định danh của mỗi người\n",
    "- gender: Giới tính (\"Male\", \"Female\", \"Other\")\n",
    "- age: Tuổi của bệnh nhân\n",
    "- hypertension: Bệnh nhân có bị cao huyết áp không (0: Không, 1: Có)\n",
    "- heart_disease: Bệnh nhân có bị bệnh tim không (0: Không, 1: Có)\n",
    "- ever_married: Đã kết hôn chưa (\"No\",\"Yes\")\n",
    "- work_type: Loại công việc (\"Children\", \"Govt_jov\", \"Never_worked\", \"Private\" or \"Self-employed\")\n",
    "- Residence_type: Khu vực cư trú (\"Rural\": Nông thôn, \"Urban\": Đô thị)\n",
    "- avg_glucose_level: Nồng độ đường trong máu\n",
    "- bmi: Chỉ số bmi của cơ thể\n",
    "- smoking_status: Tình trạng hút thuốc (\"formerly smoked\": Trước đây có hút thuốc nhưng giờ bỏ rồi, \"never smoked\": Chưa bao giờ hút, \"smokes\": Hút thuốc, \"Unknown\": Không có thông tin)\n",
    "- stroke: Bệnh nhân có bị đột quỵ không (0: Không, 1: Có)"
   ]
  },
  {
   "cell_type": "markdown",
   "id": "caeb182a-260c-466f-bc27-c651bce2e00f",
   "metadata": {},
   "source": [
    "### Dữ liệu có các dòng bị lặp không?"
   ]
  },
  {
   "cell_type": "code",
   "execution_count": 4,
   "id": "c0b95f9a-684f-4bdc-9cbd-0b84f5220c64",
   "metadata": {},
   "outputs": [
    {
     "data": {
      "text/plain": [
       "False"
      ]
     },
     "execution_count": 4,
     "metadata": {},
     "output_type": "execute_result"
    }
   ],
   "source": [
    "have_duplicated_rows=any(df.duplicated())\n",
    "have_duplicated_rows"
   ]
  },
  {
   "cell_type": "markdown",
   "id": "18a0d8ec-11ef-4511-9b0d-970e957c7eb6",
   "metadata": {},
   "source": [
    "### Mỗi cột hiện đang có kiểu dữ liệu gì? Có cột nào có kiểu dữ liệu chưa phù hợp để có thể xử lý tiếp không?"
   ]
  },
  {
   "cell_type": "code",
   "execution_count": 5,
   "id": "35530cba-06f4-462b-b162-0f02dfd0b897",
   "metadata": {},
   "outputs": [
    {
     "data": {
      "text/plain": [
       "id                     int64\n",
       "gender                object\n",
       "age                  float64\n",
       "hypertension           int64\n",
       "heart_disease          int64\n",
       "ever_married          object\n",
       "work_type             object\n",
       "Residence_type        object\n",
       "avg_glucose_level    float64\n",
       "bmi                  float64\n",
       "smoking_status        object\n",
       "stroke                 int64\n",
       "dtype: object"
      ]
     },
     "execution_count": 5,
     "metadata": {},
     "output_type": "execute_result"
    }
   ],
   "source": [
    "df.dtypes"
   ]
  },
  {
   "cell_type": "markdown",
   "id": "8b789451-8e61-4c0c-9168-583c2f72ce5f",
   "metadata": {},
   "source": [
    "Ta thấy có vẻ cột age hơi bất thường vì tuổi phải là 1 số nguyên, không thể là kiểu float được. còn lại thì các cột khác đều có kiểu dữ liệu phù hợp.\n",
    "\n",
    "Tí nữa ta sẽ tiền xử lý cột age ngay dưới đây"
   ]
  },
  {
   "cell_type": "markdown",
   "id": "35a3e5fd-0317-4a13-9144-113918ec6143",
   "metadata": {},
   "source": [
    "### Với mỗi cột có kiểu dữ liệu dạng số (numerical), các giá trị được phân bố như thế nào?"
   ]
  },
  {
   "cell_type": "markdown",
   "id": "1d360213-5f87-43a6-ad11-27f521487154",
   "metadata": {},
   "source": [
    "Hiện có vẻ có 7 cột thuộc nhóm numeric là: \"id\",\"age\",\"hypertension\",\"heart_disease\",\"avg_glucose_level\",\"bmi\" và \"stroke\". Tuy nhiên, 4 cột \"id\",\"hypertension\",\"heart_disease\" và \"stroke\" thật ra là dạng categorical( vì là mã được đánh dưới dạng số). Như vậy chỉ có 3 cột thuộc numeric là \"age\",\"avg_glucose_level\" và \"bmi\"\n",
    "\n",
    "Với mỗi cột ta sẽ tính tỉ lệ % giá trị thiếu, min và max và lưu vào dataframe nume_col_profiles_df."
   ]
  },
  {
   "cell_type": "code",
   "execution_count": 6,
   "id": "7e6cff83-3b29-405f-9071-531176302890",
   "metadata": {},
   "outputs": [
    {
     "data": {
      "text/html": [
       "<div>\n",
       "<style scoped>\n",
       "    .dataframe tbody tr th:only-of-type {\n",
       "        vertical-align: middle;\n",
       "    }\n",
       "\n",
       "    .dataframe tbody tr th {\n",
       "        vertical-align: top;\n",
       "    }\n",
       "\n",
       "    .dataframe thead th {\n",
       "        text-align: right;\n",
       "    }\n",
       "</style>\n",
       "<table border=\"1\" class=\"dataframe\">\n",
       "  <thead>\n",
       "    <tr style=\"text-align: right;\">\n",
       "      <th></th>\n",
       "      <th>age</th>\n",
       "      <th>avg_glucose_level</th>\n",
       "      <th>bmi</th>\n",
       "    </tr>\n",
       "  </thead>\n",
       "  <tbody>\n",
       "    <tr>\n",
       "      <th>missing_ratio</th>\n",
       "      <td>0.00</td>\n",
       "      <td>0.00</td>\n",
       "      <td>3.933464</td>\n",
       "    </tr>\n",
       "    <tr>\n",
       "      <th>min</th>\n",
       "      <td>0.08</td>\n",
       "      <td>55.12</td>\n",
       "      <td>10.300000</td>\n",
       "    </tr>\n",
       "    <tr>\n",
       "      <th>max</th>\n",
       "      <td>82.00</td>\n",
       "      <td>271.74</td>\n",
       "      <td>97.600000</td>\n",
       "    </tr>\n",
       "  </tbody>\n",
       "</table>\n",
       "</div>"
      ],
      "text/plain": [
       "                 age  avg_glucose_level        bmi\n",
       "missing_ratio   0.00               0.00   3.933464\n",
       "min             0.08              55.12  10.300000\n",
       "max            82.00             271.74  97.600000"
      ]
     },
     "execution_count": 6,
     "metadata": {},
     "output_type": "execute_result"
    }
   ],
   "source": [
    "def missing_ratio(s):\n",
    "    return s.isna().mean()*100\n",
    "nume_col_profiles_df=df[[\"age\",\"avg_glucose_level\",\"bmi\"]].agg([missing_ratio,min,max])\n",
    "nume_col_profiles_df"
   ]
  },
  {
   "cell_type": "markdown",
   "id": "f4ccbd6b-8c15-49ad-bec0-a301c82ae89e",
   "metadata": {},
   "source": [
    "Ta thấy rằng các cột \"age\" và \"avg_glucose_level\" đều có đủ giá trị, chỉ có cột \"bmi\" là thiếu gần 4% giá trị. Còn min max chỉ có 1 điểm bất thường là min của cột age là 0.08 (tuổi không thể là số thực như vậy được)\n",
    "\n",
    "Giờ ta đã xuất hiện 1 vấn đề cần tiền xử lý đó là cột age xuất hiện những giá trị số thực. \n",
    "\n",
    "---"
   ]
  },
  {
   "cell_type": "markdown",
   "id": "e12f415e-3368-4997-bef0-93d7daa01fc5",
   "metadata": {},
   "source": [
    "## Tiền xử lý"
   ]
  },
  {
   "cell_type": "markdown",
   "id": "3e2023c1-dfeb-4e1c-b011-f17196e01ef4",
   "metadata": {},
   "source": [
    "Theo như tìm hiểu thì các giá trị age là số thực đều là của những đứa trẻ dưới 3 tuổi. Vì còn nhỏ tuổi, nên người ta tính thêm cả tháng tuổi từ đó dẫn đến số tuổi không nguyên. 1 cách để tiền xử lý là ta có thể làm tròn số tuổi của những đứa trẻ này lên, rồi sau đó ta sẽ đổi kiểu dữ liệu của cột age này về kiểu int."
   ]
  },
  {
   "cell_type": "code",
   "execution_count": 7,
   "id": "540daae8-1e17-43dd-8e46-aef2d96d53e6",
   "metadata": {},
   "outputs": [],
   "source": [
    "df['age']=df['age'].apply(math.ceil)\n",
    "df['age']=df['age'].astype(\"int\")"
   ]
  },
  {
   "cell_type": "markdown",
   "id": "0c6a158d-3e90-4a12-ad0a-0ffb426e5028",
   "metadata": {},
   "source": [
    "### Giờ ta sẽ xem lại thử kiểu dữ liệu cột age đã là \"int\" và các giá trị phân bố trong age đúng chưa?"
   ]
  },
  {
   "cell_type": "code",
   "execution_count": 8,
   "id": "509a9207-0a4e-44c8-993f-8db1b8041184",
   "metadata": {},
   "outputs": [
    {
     "data": {
      "text/plain": [
       "id                     int64\n",
       "gender                object\n",
       "age                    int32\n",
       "hypertension           int64\n",
       "heart_disease          int64\n",
       "ever_married          object\n",
       "work_type             object\n",
       "Residence_type        object\n",
       "avg_glucose_level    float64\n",
       "bmi                  float64\n",
       "smoking_status        object\n",
       "stroke                 int64\n",
       "dtype: object"
      ]
     },
     "execution_count": 8,
     "metadata": {},
     "output_type": "execute_result"
    }
   ],
   "source": [
    "df.dtypes"
   ]
  },
  {
   "cell_type": "code",
   "execution_count": 9,
   "id": "53293f5e-c163-4d3f-b9ca-bcfba2389345",
   "metadata": {},
   "outputs": [
    {
     "data": {
      "text/html": [
       "<div>\n",
       "<style scoped>\n",
       "    .dataframe tbody tr th:only-of-type {\n",
       "        vertical-align: middle;\n",
       "    }\n",
       "\n",
       "    .dataframe tbody tr th {\n",
       "        vertical-align: top;\n",
       "    }\n",
       "\n",
       "    .dataframe thead th {\n",
       "        text-align: right;\n",
       "    }\n",
       "</style>\n",
       "<table border=\"1\" class=\"dataframe\">\n",
       "  <thead>\n",
       "    <tr style=\"text-align: right;\">\n",
       "      <th></th>\n",
       "      <th>age</th>\n",
       "      <th>avg_glucose_level</th>\n",
       "      <th>bmi</th>\n",
       "    </tr>\n",
       "  </thead>\n",
       "  <tbody>\n",
       "    <tr>\n",
       "      <th>missing_ratio</th>\n",
       "      <td>0.0</td>\n",
       "      <td>0.00</td>\n",
       "      <td>3.933464</td>\n",
       "    </tr>\n",
       "    <tr>\n",
       "      <th>min</th>\n",
       "      <td>1.0</td>\n",
       "      <td>55.12</td>\n",
       "      <td>10.300000</td>\n",
       "    </tr>\n",
       "    <tr>\n",
       "      <th>max</th>\n",
       "      <td>82.0</td>\n",
       "      <td>271.74</td>\n",
       "      <td>97.600000</td>\n",
       "    </tr>\n",
       "  </tbody>\n",
       "</table>\n",
       "</div>"
      ],
      "text/plain": [
       "                age  avg_glucose_level        bmi\n",
       "missing_ratio   0.0               0.00   3.933464\n",
       "min             1.0              55.12  10.300000\n",
       "max            82.0             271.74  97.600000"
      ]
     },
     "execution_count": 9,
     "metadata": {},
     "output_type": "execute_result"
    }
   ],
   "source": [
    "nume_col_profiles_df=df[[\"age\",\"avg_glucose_level\",\"bmi\"]].agg([missing_ratio,min,max])\n",
    "nume_col_profiles_df"
   ]
  },
  {
   "cell_type": "markdown",
   "id": "b2ced779-0467-4eaf-a13b-79a2accdab8b",
   "metadata": {},
   "source": [
    "Nhìn qua thì ta thấy mọi thứ đã ổn"
   ]
  },
  {
   "cell_type": "markdown",
   "id": "b1768cce-df2b-40ba-af96-c24a2d72169b",
   "metadata": {},
   "source": [
    "## Khám phá dữ liệu (tiếp tục)"
   ]
  },
  {
   "cell_type": "markdown",
   "id": "b8c25b70-e4df-481d-8e8d-ac30fe813ae1",
   "metadata": {},
   "source": [
    "### Với mỗi cột có kiểu dữ liệu dạng phân loại (categorical), các giá trị được phân bố như thế nào?"
   ]
  },
  {
   "cell_type": "markdown",
   "id": "29e3f0c8-1235-46f3-8a9a-b55b2c05f852",
   "metadata": {},
   "source": [
    "df có 9 cột kiểu categorical là: \"id\",\"hypertension\",\"heart_disease\",\"stroke\",\"gender\",\"work_type\",\"ever_married\",\"smoking_status\" và \"Residence_type\".\n",
    "\n",
    "Ở mỗi cột categorical, ta sẽ tính tỉ lệ % giá trị thiếu, số lượng khác nhau và show ra các giá trị khác nhau (không tính giá trị thiếu)."
   ]
  },
  {
   "cell_type": "code",
   "execution_count": 10,
   "id": "e03d4873-f3d2-43ee-b605-d8ad5f747069",
   "metadata": {},
   "outputs": [
    {
     "data": {
      "text/html": [
       "<div>\n",
       "<style scoped>\n",
       "    .dataframe tbody tr th:only-of-type {\n",
       "        vertical-align: middle;\n",
       "    }\n",
       "\n",
       "    .dataframe tbody tr th {\n",
       "        vertical-align: top;\n",
       "    }\n",
       "\n",
       "    .dataframe thead th {\n",
       "        text-align: right;\n",
       "    }\n",
       "</style>\n",
       "<table border=\"1\" class=\"dataframe\">\n",
       "  <thead>\n",
       "    <tr style=\"text-align: right;\">\n",
       "      <th></th>\n",
       "      <th>id</th>\n",
       "      <th>hypertension</th>\n",
       "      <th>heart_disease</th>\n",
       "      <th>stroke</th>\n",
       "      <th>gender</th>\n",
       "      <th>work_type</th>\n",
       "      <th>Residence_type</th>\n",
       "      <th>ever_married</th>\n",
       "      <th>smoking_status</th>\n",
       "    </tr>\n",
       "  </thead>\n",
       "  <tbody>\n",
       "    <tr>\n",
       "      <th>missing_ratio</th>\n",
       "      <td>0.0</td>\n",
       "      <td>0.0</td>\n",
       "      <td>0.0</td>\n",
       "      <td>0.0</td>\n",
       "      <td>0.0</td>\n",
       "      <td>0.0</td>\n",
       "      <td>0.0</td>\n",
       "      <td>0.0</td>\n",
       "      <td>0.0</td>\n",
       "    </tr>\n",
       "    <tr>\n",
       "      <th>num_diff_vals</th>\n",
       "      <td>5110</td>\n",
       "      <td>2</td>\n",
       "      <td>2</td>\n",
       "      <td>2</td>\n",
       "      <td>3</td>\n",
       "      <td>5</td>\n",
       "      <td>2</td>\n",
       "      <td>2</td>\n",
       "      <td>4</td>\n",
       "    </tr>\n",
       "    <tr>\n",
       "      <th>diff_vals</th>\n",
       "      <td>[9046, 51676, 31112, 60182, 1665, 56669, 53882...</td>\n",
       "      <td>[0, 1]</td>\n",
       "      <td>[1, 0]</td>\n",
       "      <td>[1, 0]</td>\n",
       "      <td>[Male, Female, Other]</td>\n",
       "      <td>[Private, Self-employed, Govt_job, children, N...</td>\n",
       "      <td>[Urban, Rural]</td>\n",
       "      <td>[Yes, No]</td>\n",
       "      <td>[formerly smoked, never smoked, smokes, Unknown]</td>\n",
       "    </tr>\n",
       "  </tbody>\n",
       "</table>\n",
       "</div>"
      ],
      "text/plain": [
       "                                                              id hypertension  \\\n",
       "missing_ratio                                                0.0          0.0   \n",
       "num_diff_vals                                               5110            2   \n",
       "diff_vals      [9046, 51676, 31112, 60182, 1665, 56669, 53882...       [0, 1]   \n",
       "\n",
       "              heart_disease  stroke                 gender  \\\n",
       "missing_ratio           0.0     0.0                    0.0   \n",
       "num_diff_vals             2       2                      3   \n",
       "diff_vals            [1, 0]  [1, 0]  [Male, Female, Other]   \n",
       "\n",
       "                                                       work_type  \\\n",
       "missing_ratio                                                0.0   \n",
       "num_diff_vals                                                  5   \n",
       "diff_vals      [Private, Self-employed, Govt_job, children, N...   \n",
       "\n",
       "               Residence_type ever_married  \\\n",
       "missing_ratio             0.0          0.0   \n",
       "num_diff_vals               2            2   \n",
       "diff_vals      [Urban, Rural]    [Yes, No]   \n",
       "\n",
       "                                                 smoking_status  \n",
       "missing_ratio                                               0.0  \n",
       "num_diff_vals                                                 4  \n",
       "diff_vals      [formerly smoked, never smoked, smokes, Unknown]  "
      ]
     },
     "execution_count": 10,
     "metadata": {},
     "output_type": "execute_result"
    }
   ],
   "source": [
    "def num_diff_vals(s):\n",
    "    return s.nunique()\n",
    "def diff_vals(s):\n",
    "    return s.dropna().unique()\n",
    "cate_df=df[[\"id\",\"hypertension\",\"heart_disease\",\"stroke\",\"gender\",\"work_type\",\"Residence_type\",\"ever_married\",\"smoking_status\"]]\n",
    "cate_col_profiles_df=cate_df.agg([missing_ratio,num_diff_vals,diff_vals])\n",
    "cate_col_profiles_df"
   ]
  },
  {
   "cell_type": "markdown",
   "id": "0aa1ac56-acda-464c-99f3-6246989178f4",
   "metadata": {},
   "source": [
    "*Ta có thể thấy không có cột nào thiếu giá trị. Số lượng giá trị khác nhau và các giá trị khác nhau cũng không có gì bất thường*"
   ]
  },
  {
   "cell_type": "markdown",
   "id": "23e3df44-81ce-431e-96d6-c3b16b29f490",
   "metadata": {},
   "source": [
    "## 3. Đưa ra các câu hỏi có ý nghĩa cần trả lời\n",
    "\n",
    "---"
   ]
  },
  {
   "cell_type": "markdown",
   "id": "c2ff40a2-c850-4448-9405-a559e60db027",
   "metadata": {},
   "source": [
    "- Ở mỗi giới tính thì chỉ số bmi (người gầy, bình thường, thừa cân hay béo phì các cấp độ) có tỉ lệ trung bình bị đột quy như thế nào?  "
   ]
  },
  {
   "cell_type": "markdown",
   "id": "b47b76ef-1443-40b6-8548-4cf2a25f6f01",
   "metadata": {},
   "source": [
    "Trả lời được câu hỏi này: Ta sẽ có thể biết được ở mỗi giới tính người nào dễ có nguy cơ bị đột quỵ nhất. Từ đó có thể dự đoán sớm nhóm người nguy cơ\n",
    "mắc cao để báo trước cho những người này cần phải điều chỉnh chế độ ăn uống, sinh hoạt hàng ngày giúp cải thiện chỉ số bmi nhằm ngăn ngừa khả năng bị\n",
    "đột quỵ."
   ]
  },
  {
   "cell_type": "markdown",
   "id": "a3b3e537",
   "metadata": {},
   "source": [
    "- Những người có tiền sử bệnh khác(huyết áp cao, tim mạch, đái tháo đường) thì có tổng số ca bị đột quỵ theo từng độ tuổi là bao nhiêu?"
   ]
  },
  {
   "cell_type": "markdown",
   "id": "4bb51e97",
   "metadata": {},
   "source": [
    "Chúng ta đều biết những người càng lớn tuổi thì khả năng bị đột quỵ càng cao, vậy nếu họ còn mang thêm những căn bệnh nguy hiểm khác thì sẽ thế nào? Trả lời được câu hỏi này giúp dự báo trước nguy cơ bị đột quỵ của những nhóm người này và họ sẽ cần tìm những sự tư vấn, chăm sóc phù hợp để giảm khả năng bị đột quỵ thấp nhất có thể."
   ]
  },
  {
   "cell_type": "markdown",
   "id": "1b480b42-b1b0-4c41-b366-34551d721108",
   "metadata": {},
   "source": [
    "## 4. Tiền xử lý + phân tích dữ liệu để trả lời cho từng câu hỏi\n",
    "\n",
    "---"
   ]
  },
  {
   "cell_type": "markdown",
   "id": "347ab883-53e7-4132-b446-9aecdfc347a1",
   "metadata": {},
   "source": [
    "### Ở mỗi giới tính thì chỉ số bmi (người gầy, bình thường, thừa cân hay béo phì các cấp độ) có tỉ lệ trung bình bị đột quy như thế nào?\n",
    "\n",
    "Để trả lời câu hỏi này ta cần phải tiền xử lý dữ liệu:\n",
    "\n",
    "- Vì số lượng giá trị Other trong giới tính rất nhỏ nên ta sẽ bỏ qua, chỉ lấy dữ liệu có giới tính nam và nữ \n",
    "\n",
    "- Ở quá trình khám phá dữ liệu ta thấy cột bmi thiếu giá trị nên ta loại bỏ những dòng mà thiếu giá trị đó.\n",
    "\n",
    "- Ta chia chỉ số bmi thành 6 nhóm theo [chuẩn của tổ chức WHO](https://www.euro.who.int/en/health-topics/disease-prevention/nutrition/a-healthy-lifestyle/body-mass-index-bmi)\n",
    "\n",
    "  - 1. Dưới 18.5: Gầy\n",
    "  - 2. Từ 18-5->24.9: Bình thường\n",
    "  - 3. Từ 25.0->29.9: Tiền béo phì\n",
    "  - 4. Từ 30->34.9: Béo phì cấp độ 1\n",
    "  - 5. Từ 35->39.9: Béo phì cấp độ 2\n",
    "  - 6. Trên 40: Béo phì cấp độ 3"
   ]
  },
  {
   "cell_type": "markdown",
   "id": "0896d842-1be6-4c47-b8b6-36a04cc0b115",
   "metadata": {},
   "source": [
    "### Tiền xử lý"
   ]
  },
  {
   "cell_type": "markdown",
   "id": "2d30ef2d-a8f5-4085-9e37-07615461dfe4",
   "metadata": {},
   "source": [
    "#### Bỏ các dòng có giá trị 'Other' trong gender"
   ]
  },
  {
   "cell_type": "code",
   "execution_count": 11,
   "id": "7c2d720e-016c-4c76-b4f5-ad5d795c7f6a",
   "metadata": {},
   "outputs": [
    {
     "data": {
      "text/plain": [
       "(5110, 12)"
      ]
     },
     "execution_count": 11,
     "metadata": {},
     "output_type": "execute_result"
    }
   ],
   "source": [
    "df.shape"
   ]
  },
  {
   "cell_type": "code",
   "execution_count": 12,
   "id": "d936d716-b506-40f7-8b20-b4adf84af879",
   "metadata": {},
   "outputs": [],
   "source": [
    "df_q1=df[df['gender']!='Other']"
   ]
  },
  {
   "cell_type": "code",
   "execution_count": 13,
   "id": "c9cf3995-9b99-43cb-89d8-a53ae4249a60",
   "metadata": {},
   "outputs": [
    {
     "data": {
      "text/plain": [
       "(5109, 12)"
      ]
     },
     "execution_count": 13,
     "metadata": {},
     "output_type": "execute_result"
    }
   ],
   "source": [
    "df_q1.shape"
   ]
  },
  {
   "cell_type": "markdown",
   "id": "c719aaf6-248f-465a-8293-11fede14cfb6",
   "metadata": {},
   "source": [
    "#### Loại bỏ những dòng mà thiếu giá trị ở cột bmi"
   ]
  },
  {
   "cell_type": "code",
   "execution_count": 14,
   "id": "dbc0f4da-97da-4167-9e91-1935d7adc248",
   "metadata": {},
   "outputs": [],
   "source": [
    "df_q1=df_q1[df_q1['bmi'].notnull()]"
   ]
  },
  {
   "cell_type": "code",
   "execution_count": 15,
   "id": "bca02cb2-a347-43db-9259-e7ab0f18d01f",
   "metadata": {},
   "outputs": [
    {
     "data": {
      "text/plain": [
       "(4908, 12)"
      ]
     },
     "execution_count": 15,
     "metadata": {},
     "output_type": "execute_result"
    }
   ],
   "source": [
    "df_q1.shape"
   ]
  },
  {
   "cell_type": "markdown",
   "id": "098d94cf-eb10-4c80-8a29-3afee9e05eb5",
   "metadata": {},
   "source": [
    "#### Chia chỉ số bmi thành 6 nhóm theo chuẩn WHO\n",
    "\n",
    "Ta sẽ lưu 6 nhóm tương ứng cột bin"
   ]
  },
  {
   "cell_type": "code",
   "execution_count": 16,
   "id": "1c52bb5d-cffc-4d62-984a-fed20594899b",
   "metadata": {},
   "outputs": [
    {
     "data": {
      "text/html": [
       "<div>\n",
       "<style scoped>\n",
       "    .dataframe tbody tr th:only-of-type {\n",
       "        vertical-align: middle;\n",
       "    }\n",
       "\n",
       "    .dataframe tbody tr th {\n",
       "        vertical-align: top;\n",
       "    }\n",
       "\n",
       "    .dataframe thead th {\n",
       "        text-align: right;\n",
       "    }\n",
       "</style>\n",
       "<table border=\"1\" class=\"dataframe\">\n",
       "  <thead>\n",
       "    <tr style=\"text-align: right;\">\n",
       "      <th></th>\n",
       "      <th>id</th>\n",
       "      <th>gender</th>\n",
       "      <th>age</th>\n",
       "      <th>hypertension</th>\n",
       "      <th>heart_disease</th>\n",
       "      <th>ever_married</th>\n",
       "      <th>work_type</th>\n",
       "      <th>Residence_type</th>\n",
       "      <th>avg_glucose_level</th>\n",
       "      <th>bmi</th>\n",
       "      <th>smoking_status</th>\n",
       "      <th>stroke</th>\n",
       "      <th>bin</th>\n",
       "    </tr>\n",
       "  </thead>\n",
       "  <tbody>\n",
       "    <tr>\n",
       "      <th>0</th>\n",
       "      <td>9046</td>\n",
       "      <td>Male</td>\n",
       "      <td>67</td>\n",
       "      <td>0</td>\n",
       "      <td>1</td>\n",
       "      <td>Yes</td>\n",
       "      <td>Private</td>\n",
       "      <td>Urban</td>\n",
       "      <td>228.69</td>\n",
       "      <td>36.6</td>\n",
       "      <td>formerly smoked</td>\n",
       "      <td>1</td>\n",
       "      <td>5</td>\n",
       "    </tr>\n",
       "    <tr>\n",
       "      <th>2</th>\n",
       "      <td>31112</td>\n",
       "      <td>Male</td>\n",
       "      <td>80</td>\n",
       "      <td>0</td>\n",
       "      <td>1</td>\n",
       "      <td>Yes</td>\n",
       "      <td>Private</td>\n",
       "      <td>Rural</td>\n",
       "      <td>105.92</td>\n",
       "      <td>32.5</td>\n",
       "      <td>never smoked</td>\n",
       "      <td>1</td>\n",
       "      <td>4</td>\n",
       "    </tr>\n",
       "    <tr>\n",
       "      <th>3</th>\n",
       "      <td>60182</td>\n",
       "      <td>Female</td>\n",
       "      <td>49</td>\n",
       "      <td>0</td>\n",
       "      <td>0</td>\n",
       "      <td>Yes</td>\n",
       "      <td>Private</td>\n",
       "      <td>Urban</td>\n",
       "      <td>171.23</td>\n",
       "      <td>34.4</td>\n",
       "      <td>smokes</td>\n",
       "      <td>1</td>\n",
       "      <td>4</td>\n",
       "    </tr>\n",
       "    <tr>\n",
       "      <th>4</th>\n",
       "      <td>1665</td>\n",
       "      <td>Female</td>\n",
       "      <td>79</td>\n",
       "      <td>1</td>\n",
       "      <td>0</td>\n",
       "      <td>Yes</td>\n",
       "      <td>Self-employed</td>\n",
       "      <td>Rural</td>\n",
       "      <td>174.12</td>\n",
       "      <td>24.0</td>\n",
       "      <td>never smoked</td>\n",
       "      <td>1</td>\n",
       "      <td>2</td>\n",
       "    </tr>\n",
       "    <tr>\n",
       "      <th>5</th>\n",
       "      <td>56669</td>\n",
       "      <td>Male</td>\n",
       "      <td>81</td>\n",
       "      <td>0</td>\n",
       "      <td>0</td>\n",
       "      <td>Yes</td>\n",
       "      <td>Private</td>\n",
       "      <td>Urban</td>\n",
       "      <td>186.21</td>\n",
       "      <td>29.0</td>\n",
       "      <td>formerly smoked</td>\n",
       "      <td>1</td>\n",
       "      <td>3</td>\n",
       "    </tr>\n",
       "  </tbody>\n",
       "</table>\n",
       "</div>"
      ],
      "text/plain": [
       "      id  gender  age  hypertension  heart_disease ever_married  \\\n",
       "0   9046    Male   67             0              1          Yes   \n",
       "2  31112    Male   80             0              1          Yes   \n",
       "3  60182  Female   49             0              0          Yes   \n",
       "4   1665  Female   79             1              0          Yes   \n",
       "5  56669    Male   81             0              0          Yes   \n",
       "\n",
       "       work_type Residence_type  avg_glucose_level   bmi   smoking_status  \\\n",
       "0        Private          Urban             228.69  36.6  formerly smoked   \n",
       "2        Private          Rural             105.92  32.5     never smoked   \n",
       "3        Private          Urban             171.23  34.4           smokes   \n",
       "4  Self-employed          Rural             174.12  24.0     never smoked   \n",
       "5        Private          Urban             186.21  29.0  formerly smoked   \n",
       "\n",
       "   stroke bin  \n",
       "0       1   5  \n",
       "2       1   4  \n",
       "3       1   4  \n",
       "4       1   2  \n",
       "5       1   3  "
      ]
     },
     "execution_count": 16,
     "metadata": {},
     "output_type": "execute_result"
    }
   ],
   "source": [
    "bins=[0,18.5,25,30,35,40,100]\n",
    "labels=[1,2,3,4,5,6]\n",
    "df_q1['bin']=pd.cut(df_q1['bmi'],right=False,bins=bins,labels=labels)\n",
    "df_q1.head()"
   ]
  },
  {
   "cell_type": "markdown",
   "id": "472de6b4-92a7-43fc-a9a4-dcc3d27f7cd0",
   "metadata": {},
   "source": [
    "### Phân tích dữ liệu để trả lời câu hỏi"
   ]
  },
  {
   "cell_type": "markdown",
   "id": "50c9c973-ccde-4250-b44d-39ab2b4e3a89",
   "metadata": {},
   "source": [
    "Để trả lời câu hỏi trên, ta cần thực hiện các bước sau:\n",
    "- Bước 1: Tính dataframes gồm 2 cột (Male, Female) ứng với giới tính, 6 dòng ứng với các nhóm được chia từ chỉ số bmi. Giá trị ở mỗi ô trong dataframe là tỉ lệ trung bình của người bị đột quỵ tương ứng.\n",
    "- Bước 2: Từ kết quả trên, ta vẽ 2 đường dạng line (ứng với 2 giới tính) trên cùng đồ thị. Trong đó trục hoành là nhóm bmi, trục tung là tỉ lệ bị đột quỵ"
   ]
  },
  {
   "cell_type": "markdown",
   "id": "4bae53c0-c3cd-4f59-95dc-90fa716cd712",
   "metadata": {},
   "source": [
    "Bước 1:"
   ]
  },
  {
   "cell_type": "code",
   "execution_count": 17,
   "id": "52887fa4-69ce-4664-bbe2-8f3b0213ae03",
   "metadata": {},
   "outputs": [
    {
     "data": {
      "text/html": [
       "<div>\n",
       "<style scoped>\n",
       "    .dataframe tbody tr th:only-of-type {\n",
       "        vertical-align: middle;\n",
       "    }\n",
       "\n",
       "    .dataframe tbody tr th {\n",
       "        vertical-align: top;\n",
       "    }\n",
       "\n",
       "    .dataframe thead th {\n",
       "        text-align: right;\n",
       "    }\n",
       "</style>\n",
       "<table border=\"1\" class=\"dataframe\">\n",
       "  <thead>\n",
       "    <tr style=\"text-align: right;\">\n",
       "      <th>gender</th>\n",
       "      <th>Female</th>\n",
       "      <th>Male</th>\n",
       "    </tr>\n",
       "    <tr>\n",
       "      <th>bin</th>\n",
       "      <th></th>\n",
       "      <th></th>\n",
       "    </tr>\n",
       "  </thead>\n",
       "  <tbody>\n",
       "    <tr>\n",
       "      <th>1</th>\n",
       "      <td>0.578035</td>\n",
       "      <td>0.000000</td>\n",
       "    </tr>\n",
       "    <tr>\n",
       "      <th>2</th>\n",
       "      <td>3.186275</td>\n",
       "      <td>2.112676</td>\n",
       "    </tr>\n",
       "    <tr>\n",
       "      <th>3</th>\n",
       "      <td>5.044136</td>\n",
       "      <td>5.681818</td>\n",
       "    </tr>\n",
       "    <tr>\n",
       "      <th>4</th>\n",
       "      <td>5.482042</td>\n",
       "      <td>5.732484</td>\n",
       "    </tr>\n",
       "    <tr>\n",
       "      <th>5</th>\n",
       "      <td>4.026846</td>\n",
       "      <td>5.288462</td>\n",
       "    </tr>\n",
       "    <tr>\n",
       "      <th>6</th>\n",
       "      <td>4.166667</td>\n",
       "      <td>5.555556</td>\n",
       "    </tr>\n",
       "  </tbody>\n",
       "</table>\n",
       "</div>"
      ],
      "text/plain": [
       "gender    Female      Male\n",
       "bin                       \n",
       "1       0.578035  0.000000\n",
       "2       3.186275  2.112676\n",
       "3       5.044136  5.681818\n",
       "4       5.482042  5.732484\n",
       "5       4.026846  5.288462\n",
       "6       4.166667  5.555556"
      ]
     },
     "execution_count": 17,
     "metadata": {},
     "output_type": "execute_result"
    }
   ],
   "source": [
    "df_gen_bin=df_q1.groupby([\"bin\",\"gender\"])['stroke'].mean()*100\n",
    "df_gen_bin=df_gen_bin.unstack(1)\n",
    "df_gen_bin"
   ]
  },
  {
   "cell_type": "markdown",
   "id": "c89f3de0-04e2-4676-a6b0-9f56c88e5a91",
   "metadata": {},
   "source": [
    "Bước 2:"
   ]
  },
  {
   "cell_type": "code",
   "execution_count": 18,
   "id": "21b4d866-a6e6-4fa5-87ea-2a8183c79c82",
   "metadata": {},
   "outputs": [
    {
     "data": {
      "image/png": "[encoded data removed]",
      "text/plain": [
       "<Figure size 432x288 with 1 Axes>"
      ]
     },
     "metadata": {
      "needs_background": "light"
     },
     "output_type": "display_data"
    }
   ],
   "source": [
    "df_gen_bin.plot.line(marker='o')\n",
    "plt.ylabel(\"Tỉ lệ đột quỵ trung bình\")\n",
    "plt.xlabel(\"Nhóm bmi\");"
   ]
  },
  {
   "cell_type": "markdown",
   "id": "82ac5da5-4ac0-4ba2-8344-7fe9a8643802",
   "metadata": {},
   "source": [
    "Ta thấy ở giới tính nào thì chỉ số bmi cũng có quan hệ đồng biến với tỉ lệ bị đột quỵ hay nói cách khác những người bị béo phì có nguy cơ bị đột quỵ cao nhất (nhóm 3,4,5,6) còn người gầy ta thấy hiếm khi bị đột quỵ. Có vẻ những người bị béo phì bây giờ nên chú ý lại chế độ sinh hoạt ăn uống hàng ngày để giảm cân nếu không muốn có nguy cơ cao bị đột quỵ. \n",
    "\n",
    "Hmm, sau khi xem biểu đồ này thì 1 người gầy như mình lại hết ý định tăng cân :(("
   ]
  },
  {
   "cell_type": "markdown",
   "id": "4eea3e48",
   "metadata": {},
   "source": [
    "## Những người có tiền sử bệnh khác (huyết áp cao, tim mạch, đái tháo đường) thì có trung bình số ca bị đột quỵ theo từng độ tuổi là bao nhiêu?\n",
    "Để trả lời câu hỏi này ta cần phải tiền xử lý dữ liệu:\n",
    "\n",
    "- Vì chúng ta xét những người đột quỵ từ tuổi vị thành niên, nên ta lấy ra một dataframe với những người từ 12 tuổi trở lên\n",
    "\n",
    "- Ở quá trình khám phá dữ liệu ta sẽ bỏ đi những giá trị thiếu của các cột hypertension, heart_disease, avg_glucose_level (nếu có)\n",
    "\n",
    "- Ta chia độ tuổi thành 4 nhóm như sau:\n",
    "\n",
    "  - 12-20: những người từ 12-20 tuổi (tuổi trẻ vị thành niên)\n",
    "  - 20-25: những người từ 20-25 tuổi (tuổi trẻ)\n",
    "  - 25-60: những người từ 25-60 tuổi (tuổi trưởng thành)\n",
    "  - 60 tuổi trở lên: những người từ 60 tuổi trở lên (tuổi già)\n",
    "\n",
    "- Ngoài ra thì các cột hypertension và heart_disease ta cũng chia thành 1 (người bị cao huyết áp/bệnh tim) và 0 (người không bị cao huyết áp/bệnh tim)\n",
    "\n",
    "- Ta chia mức đường huyết (avg_glucose_level) thành 2 nhóm như sau:\n",
    "\n",
    "  - 0-139: mức đường huyết từ 0 - 139 (người bình thường)\n",
    "  - 140-199: mức đường huyết từ 140 - 199 (người bị tiền đái tháo đường)\n",
    "  - 200 trở lên: mức đường huyết từ 120 trở lên (người bị bệnh đái tháo đường)"
   ]
  },
  {
   "cell_type": "markdown",
   "id": "8eb7d716",
   "metadata": {},
   "source": [
    "### Tiền xử lý"
   ]
  },
  {
   "cell_type": "markdown",
   "id": "2d2d04f6",
   "metadata": {},
   "source": [
    "#### Lấy ra một dataframe mới là những người từ vị thành niên trở lên"
   ]
  },
  {
   "cell_type": "code",
   "execution_count": 19,
   "id": "22e22612",
   "metadata": {},
   "outputs": [],
   "source": [
    "new_df = df[df['age'] > 11]"
   ]
  },
  {
   "cell_type": "code",
   "execution_count": 20,
   "id": "193a5b40",
   "metadata": {},
   "outputs": [
    {
     "data": {
      "text/plain": [
       "(4567, 12)"
      ]
     },
     "execution_count": 20,
     "metadata": {},
     "output_type": "execute_result"
    }
   ],
   "source": [
    "new_df.shape"
   ]
  },
  {
   "cell_type": "markdown",
   "id": "8940275f",
   "metadata": {},
   "source": [
    "#### Bỏ các dòng  thiếu giá trị ở các cột hypertension, heart_disease và avg_glucose_level (nếu có)"
   ]
  },
  {
   "cell_type": "code",
   "execution_count": 21,
   "id": "f4c34462",
   "metadata": {},
   "outputs": [],
   "source": [
    "new_df = new_df[new_df['hypertension'].notnull()]\n",
    "new_df = new_df[new_df['heart_disease'].notnull()]\n",
    "new_df = new_df[new_df['avg_glucose_level'].notnull()]"
   ]
  },
  {
   "cell_type": "code",
   "execution_count": 22,
   "id": "6690e9bd",
   "metadata": {},
   "outputs": [
    {
     "data": {
      "text/plain": [
       "(4567, 12)"
      ]
     },
     "execution_count": 22,
     "metadata": {},
     "output_type": "execute_result"
    }
   ],
   "source": [
    "new_df.shape"
   ]
  },
  {
   "cell_type": "markdown",
   "id": "55706b52",
   "metadata": {},
   "source": [
    "#### Chia số tuổi thành 4 nhóm tuổi và lưu vào cột age_bins"
   ]
  },
  {
   "cell_type": "code",
   "execution_count": 23,
   "id": "3f0f4b19",
   "metadata": {},
   "outputs": [
    {
     "data": {
      "text/html": [
       "<div>\n",
       "<style scoped>\n",
       "    .dataframe tbody tr th:only-of-type {\n",
       "        vertical-align: middle;\n",
       "    }\n",
       "\n",
       "    .dataframe tbody tr th {\n",
       "        vertical-align: top;\n",
       "    }\n",
       "\n",
       "    .dataframe thead th {\n",
       "        text-align: right;\n",
       "    }\n",
       "</style>\n",
       "<table border=\"1\" class=\"dataframe\">\n",
       "  <thead>\n",
       "    <tr style=\"text-align: right;\">\n",
       "      <th></th>\n",
       "      <th>id</th>\n",
       "      <th>gender</th>\n",
       "      <th>age</th>\n",
       "      <th>hypertension</th>\n",
       "      <th>heart_disease</th>\n",
       "      <th>ever_married</th>\n",
       "      <th>work_type</th>\n",
       "      <th>Residence_type</th>\n",
       "      <th>avg_glucose_level</th>\n",
       "      <th>bmi</th>\n",
       "      <th>smoking_status</th>\n",
       "      <th>stroke</th>\n",
       "      <th>age_bin</th>\n",
       "    </tr>\n",
       "  </thead>\n",
       "  <tbody>\n",
       "    <tr>\n",
       "      <th>0</th>\n",
       "      <td>9046</td>\n",
       "      <td>Male</td>\n",
       "      <td>67</td>\n",
       "      <td>0</td>\n",
       "      <td>1</td>\n",
       "      <td>Yes</td>\n",
       "      <td>Private</td>\n",
       "      <td>Urban</td>\n",
       "      <td>228.69</td>\n",
       "      <td>36.6</td>\n",
       "      <td>formerly smoked</td>\n",
       "      <td>1</td>\n",
       "      <td>&gt; 60</td>\n",
       "    </tr>\n",
       "    <tr>\n",
       "      <th>1</th>\n",
       "      <td>51676</td>\n",
       "      <td>Female</td>\n",
       "      <td>61</td>\n",
       "      <td>0</td>\n",
       "      <td>0</td>\n",
       "      <td>Yes</td>\n",
       "      <td>Self-employed</td>\n",
       "      <td>Rural</td>\n",
       "      <td>202.21</td>\n",
       "      <td>NaN</td>\n",
       "      <td>never smoked</td>\n",
       "      <td>1</td>\n",
       "      <td>&gt; 60</td>\n",
       "    </tr>\n",
       "    <tr>\n",
       "      <th>2</th>\n",
       "      <td>31112</td>\n",
       "      <td>Male</td>\n",
       "      <td>80</td>\n",
       "      <td>0</td>\n",
       "      <td>1</td>\n",
       "      <td>Yes</td>\n",
       "      <td>Private</td>\n",
       "      <td>Rural</td>\n",
       "      <td>105.92</td>\n",
       "      <td>32.5</td>\n",
       "      <td>never smoked</td>\n",
       "      <td>1</td>\n",
       "      <td>&gt; 60</td>\n",
       "    </tr>\n",
       "    <tr>\n",
       "      <th>3</th>\n",
       "      <td>60182</td>\n",
       "      <td>Female</td>\n",
       "      <td>49</td>\n",
       "      <td>0</td>\n",
       "      <td>0</td>\n",
       "      <td>Yes</td>\n",
       "      <td>Private</td>\n",
       "      <td>Urban</td>\n",
       "      <td>171.23</td>\n",
       "      <td>34.4</td>\n",
       "      <td>smokes</td>\n",
       "      <td>1</td>\n",
       "      <td>25-60</td>\n",
       "    </tr>\n",
       "    <tr>\n",
       "      <th>4</th>\n",
       "      <td>1665</td>\n",
       "      <td>Female</td>\n",
       "      <td>79</td>\n",
       "      <td>1</td>\n",
       "      <td>0</td>\n",
       "      <td>Yes</td>\n",
       "      <td>Self-employed</td>\n",
       "      <td>Rural</td>\n",
       "      <td>174.12</td>\n",
       "      <td>24.0</td>\n",
       "      <td>never smoked</td>\n",
       "      <td>1</td>\n",
       "      <td>&gt; 60</td>\n",
       "    </tr>\n",
       "  </tbody>\n",
       "</table>\n",
       "</div>"
      ],
      "text/plain": [
       "      id  gender  age  hypertension  heart_disease ever_married  \\\n",
       "0   9046    Male   67             0              1          Yes   \n",
       "1  51676  Female   61             0              0          Yes   \n",
       "2  31112    Male   80             0              1          Yes   \n",
       "3  60182  Female   49             0              0          Yes   \n",
       "4   1665  Female   79             1              0          Yes   \n",
       "\n",
       "       work_type Residence_type  avg_glucose_level   bmi   smoking_status  \\\n",
       "0        Private          Urban             228.69  36.6  formerly smoked   \n",
       "1  Self-employed          Rural             202.21   NaN     never smoked   \n",
       "2        Private          Rural             105.92  32.5     never smoked   \n",
       "3        Private          Urban             171.23  34.4           smokes   \n",
       "4  Self-employed          Rural             174.12  24.0     never smoked   \n",
       "\n",
       "   stroke age_bin  \n",
       "0       1    > 60  \n",
       "1       1    > 60  \n",
       "2       1    > 60  \n",
       "3       1   25-60  \n",
       "4       1    > 60  "
      ]
     },
     "execution_count": 23,
     "metadata": {},
     "output_type": "execute_result"
    }
   ],
   "source": [
    "age_bins=[12,20,25,60,85] #tuổi lớn nhất của dataframe này <85\n",
    "age_labels=['12-20','20-25','25-60','> 60']\n",
    "new_df['age_bin'] = pd.cut(new_df['age'],right=False,bins=age_bins,labels=age_labels)\n",
    "new_df.head()"
   ]
  },
  {
   "cell_type": "markdown",
   "id": "cd00fa84",
   "metadata": {},
   "source": [
    "#### Chia mức đường huyết thành 3 nhóm và lưu vào cột glu_bins"
   ]
  },
  {
   "cell_type": "code",
   "execution_count": 24,
   "id": "ae0a346b",
   "metadata": {},
   "outputs": [
    {
     "data": {
      "text/html": [
       "<div>\n",
       "<style scoped>\n",
       "    .dataframe tbody tr th:only-of-type {\n",
       "        vertical-align: middle;\n",
       "    }\n",
       "\n",
       "    .dataframe tbody tr th {\n",
       "        vertical-align: top;\n",
       "    }\n",
       "\n",
       "    .dataframe thead th {\n",
       "        text-align: right;\n",
       "    }\n",
       "</style>\n",
       "<table border=\"1\" class=\"dataframe\">\n",
       "  <thead>\n",
       "    <tr style=\"text-align: right;\">\n",
       "      <th></th>\n",
       "      <th>id</th>\n",
       "      <th>gender</th>\n",
       "      <th>age</th>\n",
       "      <th>hypertension</th>\n",
       "      <th>heart_disease</th>\n",
       "      <th>ever_married</th>\n",
       "      <th>work_type</th>\n",
       "      <th>Residence_type</th>\n",
       "      <th>avg_glucose_level</th>\n",
       "      <th>bmi</th>\n",
       "      <th>smoking_status</th>\n",
       "      <th>stroke</th>\n",
       "      <th>age_bin</th>\n",
       "      <th>glu_bin</th>\n",
       "    </tr>\n",
       "  </thead>\n",
       "  <tbody>\n",
       "    <tr>\n",
       "      <th>0</th>\n",
       "      <td>9046</td>\n",
       "      <td>Male</td>\n",
       "      <td>67</td>\n",
       "      <td>0</td>\n",
       "      <td>1</td>\n",
       "      <td>Yes</td>\n",
       "      <td>Private</td>\n",
       "      <td>Urban</td>\n",
       "      <td>228.69</td>\n",
       "      <td>36.6</td>\n",
       "      <td>formerly smoked</td>\n",
       "      <td>1</td>\n",
       "      <td>&gt; 60</td>\n",
       "      <td>&gt; 200</td>\n",
       "    </tr>\n",
       "    <tr>\n",
       "      <th>1</th>\n",
       "      <td>51676</td>\n",
       "      <td>Female</td>\n",
       "      <td>61</td>\n",
       "      <td>0</td>\n",
       "      <td>0</td>\n",
       "      <td>Yes</td>\n",
       "      <td>Self-employed</td>\n",
       "      <td>Rural</td>\n",
       "      <td>202.21</td>\n",
       "      <td>NaN</td>\n",
       "      <td>never smoked</td>\n",
       "      <td>1</td>\n",
       "      <td>&gt; 60</td>\n",
       "      <td>&gt; 200</td>\n",
       "    </tr>\n",
       "    <tr>\n",
       "      <th>2</th>\n",
       "      <td>31112</td>\n",
       "      <td>Male</td>\n",
       "      <td>80</td>\n",
       "      <td>0</td>\n",
       "      <td>1</td>\n",
       "      <td>Yes</td>\n",
       "      <td>Private</td>\n",
       "      <td>Rural</td>\n",
       "      <td>105.92</td>\n",
       "      <td>32.5</td>\n",
       "      <td>never smoked</td>\n",
       "      <td>1</td>\n",
       "      <td>&gt; 60</td>\n",
       "      <td>0-139</td>\n",
       "    </tr>\n",
       "    <tr>\n",
       "      <th>3</th>\n",
       "      <td>60182</td>\n",
       "      <td>Female</td>\n",
       "      <td>49</td>\n",
       "      <td>0</td>\n",
       "      <td>0</td>\n",
       "      <td>Yes</td>\n",
       "      <td>Private</td>\n",
       "      <td>Urban</td>\n",
       "      <td>171.23</td>\n",
       "      <td>34.4</td>\n",
       "      <td>smokes</td>\n",
       "      <td>1</td>\n",
       "      <td>25-60</td>\n",
       "      <td>140-199</td>\n",
       "    </tr>\n",
       "    <tr>\n",
       "      <th>4</th>\n",
       "      <td>1665</td>\n",
       "      <td>Female</td>\n",
       "      <td>79</td>\n",
       "      <td>1</td>\n",
       "      <td>0</td>\n",
       "      <td>Yes</td>\n",
       "      <td>Self-employed</td>\n",
       "      <td>Rural</td>\n",
       "      <td>174.12</td>\n",
       "      <td>24.0</td>\n",
       "      <td>never smoked</td>\n",
       "      <td>1</td>\n",
       "      <td>&gt; 60</td>\n",
       "      <td>140-199</td>\n",
       "    </tr>\n",
       "  </tbody>\n",
       "</table>\n",
       "</div>"
      ],
      "text/plain": [
       "      id  gender  age  hypertension  heart_disease ever_married  \\\n",
       "0   9046    Male   67             0              1          Yes   \n",
       "1  51676  Female   61             0              0          Yes   \n",
       "2  31112    Male   80             0              1          Yes   \n",
       "3  60182  Female   49             0              0          Yes   \n",
       "4   1665  Female   79             1              0          Yes   \n",
       "\n",
       "       work_type Residence_type  avg_glucose_level   bmi   smoking_status  \\\n",
       "0        Private          Urban             228.69  36.6  formerly smoked   \n",
       "1  Self-employed          Rural             202.21   NaN     never smoked   \n",
       "2        Private          Rural             105.92  32.5     never smoked   \n",
       "3        Private          Urban             171.23  34.4           smokes   \n",
       "4  Self-employed          Rural             174.12  24.0     never smoked   \n",
       "\n",
       "   stroke age_bin  glu_bin  \n",
       "0       1    > 60    > 200  \n",
       "1       1    > 60    > 200  \n",
       "2       1    > 60    0-139  \n",
       "3       1   25-60  140-199  \n",
       "4       1    > 60  140-199  "
      ]
     },
     "execution_count": 24,
     "metadata": {},
     "output_type": "execute_result"
    }
   ],
   "source": [
    "glu_bins=[0,140,200,500]\n",
    "glu_labels=['0-139','140-199','> 200']\n",
    "new_df['glu_bin'] = pd.cut(new_df['avg_glucose_level'], right=False, bins=glu_bins, labels=glu_labels)\n",
    "new_df.head()"
   ]
  },
  {
   "cell_type": "markdown",
   "id": "4ce8e858",
   "metadata": {},
   "source": [
    "### Phân tích dữ liệu để trả lời câu hỏi"
   ]
  },
  {
   "cell_type": "markdown",
   "id": "5a35dd9c",
   "metadata": {},
   "source": [
    "Để trả lời câu hỏi trên, ta cần thực hiện các bước sau:\n",
    "- Bước 1: Lập 3 dataframes như sau:\n",
    "    - df_hypertension: gồm 2 cột (0, 1) ứng với bị/không bị bệnh cao huyết áp, 4 dòng ứng với các nhóm được chia từ độ tuổi. Giá trị ở mỗi ô trong dataframe là trung bình số người bị đột quỵ tương ứng.\n",
    "    - df_heart_disease: gồm 2 cột (0, 1) ứng với bị/không bị bệnh tim, 4 dòng ứng với các nhóm được chia từ độ tuổi. Giá trị ở mỗi ô trong dataframe là trung bình số người bị đột quỵ tương ứng.\n",
    "    - df_glucose: gồm 3 cột (0, 1) ứng với bị/không bị bệnh cao huyết áp, 4 dòng ứng với các nhóm được chia từ độ tuổi. Giá trị ở mỗi ô trong dataframe là trung bình số người bị đột quỵ tương ứng.\n",
    "- Bước 2: Từ kết quả trên, ta vẽ các đường dạng line trên cùng đồ thị. Trong đó trục hoành là người bị bệnh/người không bị bệnh, trục tung là trung bình số người bị đột quỵ tương ứng."
   ]
  },
  {
   "cell_type": "markdown",
   "id": "195b729a",
   "metadata": {},
   "source": [
    "#### Code bước 1"
   ]
  },
  {
   "cell_type": "code",
   "execution_count": 25,
   "id": "fae58d26",
   "metadata": {},
   "outputs": [
    {
     "data": {
      "text/html": [
       "<div>\n",
       "<style scoped>\n",
       "    .dataframe tbody tr th:only-of-type {\n",
       "        vertical-align: middle;\n",
       "    }\n",
       "\n",
       "    .dataframe tbody tr th {\n",
       "        vertical-align: top;\n",
       "    }\n",
       "\n",
       "    .dataframe thead th {\n",
       "        text-align: right;\n",
       "    }\n",
       "</style>\n",
       "<table border=\"1\" class=\"dataframe\">\n",
       "  <thead>\n",
       "    <tr style=\"text-align: right;\">\n",
       "      <th>hypertension</th>\n",
       "      <th>0</th>\n",
       "      <th>1</th>\n",
       "    </tr>\n",
       "    <tr>\n",
       "      <th>age_bin</th>\n",
       "      <th></th>\n",
       "      <th></th>\n",
       "    </tr>\n",
       "  </thead>\n",
       "  <tbody>\n",
       "    <tr>\n",
       "      <th>12-20</th>\n",
       "      <td>0.237530</td>\n",
       "      <td>0.000000</td>\n",
       "    </tr>\n",
       "    <tr>\n",
       "      <th>20-25</th>\n",
       "      <td>0.000000</td>\n",
       "      <td>0.000000</td>\n",
       "    </tr>\n",
       "    <tr>\n",
       "      <th>25-60</th>\n",
       "      <td>2.302346</td>\n",
       "      <td>6.632653</td>\n",
       "    </tr>\n",
       "    <tr>\n",
       "      <th>&gt; 60</th>\n",
       "      <td>11.851852</td>\n",
       "      <td>17.905405</td>\n",
       "    </tr>\n",
       "  </tbody>\n",
       "</table>\n",
       "</div>"
      ],
      "text/plain": [
       "hypertension          0          1\n",
       "age_bin                           \n",
       "12-20          0.237530   0.000000\n",
       "20-25          0.000000   0.000000\n",
       "25-60          2.302346   6.632653\n",
       "> 60          11.851852  17.905405"
      ]
     },
     "execution_count": 25,
     "metadata": {},
     "output_type": "execute_result"
    }
   ],
   "source": [
    "df_hypertension = new_df.groupby([\"age_bin\",\"hypertension\"])['stroke'].mean()*100\n",
    "df_hypertension = df_hypertension.unstack(1)\n",
    "df_hypertension"
   ]
  },
  {
   "cell_type": "code",
   "execution_count": 27,
   "id": "043c9a3f",
   "metadata": {},
   "outputs": [
    {
     "data": {
      "text/html": [
       "<div>\n",
       "<style scoped>\n",
       "    .dataframe tbody tr th:only-of-type {\n",
       "        vertical-align: middle;\n",
       "    }\n",
       "\n",
       "    .dataframe tbody tr th {\n",
       "        vertical-align: top;\n",
       "    }\n",
       "\n",
       "    .dataframe thead th {\n",
       "        text-align: right;\n",
       "    }\n",
       "</style>\n",
       "<table border=\"1\" class=\"dataframe\">\n",
       "  <thead>\n",
       "    <tr style=\"text-align: right;\">\n",
       "      <th>heart_disease</th>\n",
       "      <th>0</th>\n",
       "      <th>1</th>\n",
       "    </tr>\n",
       "    <tr>\n",
       "      <th>age_bin</th>\n",
       "      <th></th>\n",
       "      <th></th>\n",
       "    </tr>\n",
       "  </thead>\n",
       "  <tbody>\n",
       "    <tr>\n",
       "      <th>12-20</th>\n",
       "      <td>0.236407</td>\n",
       "      <td>NaN</td>\n",
       "    </tr>\n",
       "    <tr>\n",
       "      <th>20-25</th>\n",
       "      <td>0.000000</td>\n",
       "      <td>NaN</td>\n",
       "    </tr>\n",
       "    <tr>\n",
       "      <th>25-60</th>\n",
       "      <td>2.544112</td>\n",
       "      <td>6.557377</td>\n",
       "    </tr>\n",
       "    <tr>\n",
       "      <th>&gt; 60</th>\n",
       "      <td>11.876076</td>\n",
       "      <td>20.093458</td>\n",
       "    </tr>\n",
       "  </tbody>\n",
       "</table>\n",
       "</div>"
      ],
      "text/plain": [
       "heart_disease          0          1\n",
       "age_bin                            \n",
       "12-20           0.236407        NaN\n",
       "20-25           0.000000        NaN\n",
       "25-60           2.544112   6.557377\n",
       "> 60           11.876076  20.093458"
      ]
     },
     "execution_count": 27,
     "metadata": {},
     "output_type": "execute_result"
    }
   ],
   "source": [
    "df_heart_disease = new_df.groupby([\"age_bin\",\"heart_disease\"])['stroke'].mean()*100\n",
    "df_heart_disease = df_heart_disease.unstack(1)\n",
    "df_heart_disease"
   ]
  },
  {
   "cell_type": "code",
   "execution_count": 29,
   "id": "9e4231ff",
   "metadata": {},
   "outputs": [
    {
     "data": {
      "text/html": [
       "<div>\n",
       "<style scoped>\n",
       "    .dataframe tbody tr th:only-of-type {\n",
       "        vertical-align: middle;\n",
       "    }\n",
       "\n",
       "    .dataframe tbody tr th {\n",
       "        vertical-align: top;\n",
       "    }\n",
       "\n",
       "    .dataframe thead th {\n",
       "        text-align: right;\n",
       "    }\n",
       "</style>\n",
       "<table border=\"1\" class=\"dataframe\">\n",
       "  <thead>\n",
       "    <tr style=\"text-align: right;\">\n",
       "      <th>glu_bin</th>\n",
       "      <th>0-139</th>\n",
       "      <th>140-199</th>\n",
       "      <th>&gt; 200</th>\n",
       "    </tr>\n",
       "    <tr>\n",
       "      <th>age_bin</th>\n",
       "      <th></th>\n",
       "      <th></th>\n",
       "      <th></th>\n",
       "    </tr>\n",
       "  </thead>\n",
       "  <tbody>\n",
       "    <tr>\n",
       "      <th>12-20</th>\n",
       "      <td>0.254453</td>\n",
       "      <td>0.000000</td>\n",
       "      <td>0.000000</td>\n",
       "    </tr>\n",
       "    <tr>\n",
       "      <th>20-25</th>\n",
       "      <td>0.000000</td>\n",
       "      <td>0.000000</td>\n",
       "      <td>0.000000</td>\n",
       "    </tr>\n",
       "    <tr>\n",
       "      <th>25-60</th>\n",
       "      <td>2.093023</td>\n",
       "      <td>5.555556</td>\n",
       "      <td>6.547619</td>\n",
       "    </tr>\n",
       "    <tr>\n",
       "      <th>&gt; 60</th>\n",
       "      <td>11.190965</td>\n",
       "      <td>18.620690</td>\n",
       "      <td>17.509728</td>\n",
       "    </tr>\n",
       "  </tbody>\n",
       "</table>\n",
       "</div>"
      ],
      "text/plain": [
       "glu_bin      0-139    140-199      > 200\n",
       "age_bin                                 \n",
       "12-20     0.254453   0.000000   0.000000\n",
       "20-25     0.000000   0.000000   0.000000\n",
       "25-60     2.093023   5.555556   6.547619\n",
       "> 60     11.190965  18.620690  17.509728"
      ]
     },
     "execution_count": 29,
     "metadata": {},
     "output_type": "execute_result"
    }
   ],
   "source": [
    "df_glucose = new_df.groupby([\"age_bin\",\"glu_bin\"])['stroke'].mean()*100\n",
    "df_glucose = df_glucose.unstack(1)\n",
    "df_glucose"
   ]
  },
  {
   "cell_type": "markdown",
   "id": "69dd7f77",
   "metadata": {},
   "source": [
    "#### Code bước 2"
   ]
  },
  {
   "cell_type": "markdown",
   "id": "a7191710",
   "metadata": {},
   "source": [
    "#### Biểu đồ theo bệnh huyết áp cao"
   ]
  },
  {
   "cell_type": "code",
   "execution_count": 31,
   "id": "3fd17928",
   "metadata": {
    "scrolled": false
   },
   "outputs": [
    {
     "data": {
      "image/png": "[encoded data removed]",
      "text/plain": [
       "<Figure size 720x432 with 1 Axes>"
      ]
     },
     "metadata": {
      "needs_background": "light"
     },
     "output_type": "display_data"
    }
   ],
   "source": [
    "df_hypertension.plot.line(marker='o',figsize=(10,6), title = \"Trung bình số người bị đột quỵ theo độ tuổi (bệnh huyết áp cao)\")\n",
    "plt.xlabel(\"Độ tuổi\")\n",
    "plt.ylabel(\"Tỉ lệ số người bị đột quỵ\");"
   ]
  },
  {
   "cell_type": "markdown",
   "id": "9a830674",
   "metadata": {},
   "source": [
    "Khoảng từ độ tuổi 12-25 thì tỉ lệ chênh lệch là không nhiều, tức là chỉ có một vài trẻ vị thành niên bị đột quỵ, nhưng từ 20 tuổi trở đi (tuổi trẻ -> già) thì số người bị đột quỵ có bênh huyết áp cao tăng rất mạnh"
   ]
  },
  {
   "cell_type": "markdown",
   "id": "043c1310",
   "metadata": {},
   "source": [
    "#### Biểu đồ theo bệnh huyết áp cao"
   ]
  },
  {
   "cell_type": "code",
   "execution_count": 32,
   "id": "e443dc31",
   "metadata": {},
   "outputs": [
    {
     "data": {
      "image/png": "[encoded data removed]",
      "text/plain": [
       "<Figure size 720x432 with 1 Axes>"
      ]
     },
     "metadata": {
      "needs_background": "light"
     },
     "output_type": "display_data"
    }
   ],
   "source": [
    "df_heart_disease.plot.line(marker='o',figsize=(10,6), title = \"Trung bình số người bị đột quỵ theo độ tuổi (bệnh tim)\")\n",
    "plt.xlabel(\"Độ tuổi\")\n",
    "plt.ylabel(\"Tỉ lệ số người bị đột quỵ\");"
   ]
  },
  {
   "cell_type": "markdown",
   "id": "80c0d395",
   "metadata": {},
   "source": [
    "Một tin tốt là không có ai ở độ tuổi 12-25 mang bệnh tim bị đột quỵ, nhưng ở độ tuổi 25 trở đi (tuổi trưởng thành trở đi) thì tỉ lệ tăng mạnh không khác gì bệnh huyết áp cao"
   ]
  },
  {
   "cell_type": "markdown",
   "id": "3ad4317a",
   "metadata": {},
   "source": [
    "Tuy có chênh lệch về mặt số lượng nhưng cấu trúc 2 biểu đồ khá giống nhau\n",
    "Tỉ lệ số người mắc bệnh huyết áp cao/tim mạch bị đột quỵ nhiều hơn tỉ lệ số người bị đột quỵ không mắc 2 loại bệnh trên. "
   ]
  },
  {
   "cell_type": "markdown",
   "id": "17f8854f",
   "metadata": {},
   "source": [
    "#### Biểu đồ theo bệnh huyết áp cao"
   ]
  },
  {
   "cell_type": "code",
   "execution_count": 34,
   "id": "aaacf1e2",
   "metadata": {
    "scrolled": false
   },
   "outputs": [
    {
     "data": {
      "image/png": "[encoded data removed]",
      "text/plain": [
       "<Figure size 720x432 with 1 Axes>"
      ]
     },
     "metadata": {
      "needs_background": "light"
     },
     "output_type": "display_data"
    }
   ],
   "source": [
    "df_glucose.plot.line(marker='o',figsize=(10,6), title = \"Trung bình số người bị đột quỵ theo độ tuổi (bệnh đái tháo đường)\")\n",
    "plt.xlabel(\"Độ tuổi\")\n",
    "plt.ylabel(\"Tỉ lệ số người bị đột quỵ\");"
   ]
  },
  {
   "cell_type": "markdown",
   "id": "da24ec25",
   "metadata": {},
   "source": [
    "Khoảng từ độ tuổi 12-25 thì tỉ lệ chênh lệch là không nhiều, tức là chỉ có một vài trẻ vị thành niên bị đột quỵ, nhưng từ 20 tuổi trở đi (tuổi trẻ -> già) thì số người bị đột quỵ có bệnh đái tháo đường/tiền đái tháo đường tăng rất mạnh\n",
    "\n",
    "Ở độ tuổi 25-60 thì tỉ lệ đột quỵ tăng theo thứ tự: không bị bệnh - tiền đái tháo đường - đái tháo đường\n",
    "\n",
    "Ở độ tuổi 25-60 thì tỉ lệ đột quỵ tăng theo thứ tự: không bị bệnh - đái tháo đường - tiền đái tháo đường, 2 đường line này chênh lêch không nhiều."
   ]
  },
  {
   "cell_type": "markdown",
   "id": "24c2d1c7",
   "metadata": {},
   "source": [
    "#### Ta rút ra một vài điều như sau:\n",
    "- Không bất ngờ khi số lượng người bị các loại bệnh nền (huyết áp cao, tim mạch, đái tháo đường) có nhiều khả năng bị đột quỵ hơn những người bình thường, vì vậy chúng ta phải giữ sức khỏe cho bản thân chứ không chủ quan trước bất kì tình huống nào.\n",
    "- Đặc biệt khả năng đột quỵ khi mắc các loại bệnh trên sẽ tăng mạnh ở độ tuổi trưởng thành trở đi, vì vậy đừng suy nghĩ rằng \"còn trẻ chúng ta còn khỏe mạnh\", ở độ tuổi 25 trở đi vì phải làm việc nhiều, ít thời gian chăm lo sức khỏe cũng và lý do khiến tỉ lệ đột quỵ của chúng ta tăng cao.\n",
    "- Tuổi càng cao chắc chắn càng dễ bị đột quỵ hơn, đặc biệt ở tuổi già thì khả năng bị đột quỵ khi mắc các loại bệnh là rất cao.\n",
    "- Mỗi biểu đồ đều có một vài người ở độ tuổi vị thành niên bị đột quỵ (không biết có phải cùng 1 người không), vì vậy có thể thấy đột quỵ là án tử bất ngờ đối với bất kì ai :-(\n",
    "\n",
    "Không biết thức khuya có dễ bị đột quỵ hơn không, từ khi lên đại học mình thức khuya khá nhiều :\"(("
   ]
  },
  {
   "cell_type": "markdown",
   "id": "8a3fae61",
   "metadata": {},
   "source": [
    "## 5. Cùng nhìn lại quá trình làm đồ án"
   ]
  },
  {
   "cell_type": "markdown",
   "id": "4db1585f",
   "metadata": {},
   "source": [
    "### 19120328 - Võ Trọng Phú"
   ]
  },
  {
   "cell_type": "markdown",
   "id": "e7a7b32e",
   "metadata": {},
   "source": [
    "Trong quá trình làm đồ án, em gặp một số khó khăn như:\n",
    "- Khó khăn trong việc tìm dataset, phải tốn nhiều thời gian để cả nhóm tìm ra một dataset ưng ý, sau đó việc đặt câu hỏi cũng tốn kha khá thời gian, nhiều lúc đặt xong nhưng làm hơi ngắn phải đặt lại câu khác :-(\n",
    "- Khó khăn về mặt thời điểm: lúc làm đồ án này là lúc diễn ra kỳ thi cuối kỳ, vừa ôn bài thi các môn khác vừa làm cũng có chút áp lực ạ, trước ngày thi thì lại kẹt các đồ án khác vì đa số thầy cô đều chốt ngày nộp trước khi thi.\n",
    "\n",
    "Trong quá trình học môn này, em cũng gặp vài khó khăn như: \n",
    "- Ban đầu chưa quen với cách làm việc trên notebook, trước giờ chỉ code và run ở VS, VSCode; nhưng tiếp xúc dần thì thấy thích kiểu trên notebook hơn vì nó có điểm từng phần nếu không làm ra :\")\n",
    "- Một điều nữa không ở môn này nhưng môn nhập môn khoa học dữ liệu, vì chưa được học các thư viện trước nên lúc làm lab đầu em khá bí ạ, ước gì thầy dạy các thư viện sớm :\")\n",
    "\n",
    "Tổng kết lại, môn này rất có ích, trong quá trình học thầy cô khá vui tính và dễ tính nên em cho 5 sao trên portal :v"
   ]
  },
  {
   "cell_type": "code",
   "execution_count": null,
   "id": "de2e7489",
   "metadata": {},
   "outputs": [],
   "source": []
  }
 ],
 "metadata": {
  "kernelspec": {
   "display_name": "Python 3 (ipykernel)",
   "language": "python",
   "name": "python3"
  },
  "language_info": {
   "codemirror_mode": {
    "name": "ipython",
    "version": 3
   },
   "file_extension": ".py",
   "mimetype": "text/x-python",
   "name": "python",
   "nbconvert_exporter": "python",
   "pygments_lexer": "ipython3",
   "version": "3.8.8"
  }
 },
 "nbformat": 4,
 "nbformat_minor": 5
}
