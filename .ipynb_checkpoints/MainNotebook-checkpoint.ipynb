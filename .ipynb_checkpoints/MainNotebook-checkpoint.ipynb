{
 "cells": [
  {
   "cell_type": "markdown",
   "id": "52e7460f",
   "metadata": {},
   "source": [
    "## Môi trường code"
   ]
  },
  {
   "cell_type": "code",
   "execution_count": 34,
   "id": "9b97bc9f",
   "metadata": {},
   "outputs": [
    {
     "data": {
      "text/plain": [
       "'C:\\\\ProgramData\\\\Miniconda3\\\\envs\\\\min_ds-env\\\\python.exe'"
      ]
     },
     "execution_count": 34,
     "metadata": {},
     "output_type": "execute_result"
    }
   ],
   "source": [
    "import sys\n",
    "sys.executable"
   ]
  },
  {
   "cell_type": "markdown",
   "id": "5c6124be",
   "metadata": {},
   "source": [
    "## Import các thư viện cần thiết"
   ]
  },
  {
   "cell_type": "code",
   "execution_count": 35,
   "id": "e7005ead",
   "metadata": {},
   "outputs": [],
   "source": [
    "import pandas as pd\n",
    "import matplotlib.pyplot as plt\n",
    "import numpy as np\n",
    "import math"
   ]
  },
  {
   "cell_type": "markdown",
   "id": "60e8cf2b",
   "metadata": {},
   "source": [
    "## Thu thập dữ liệu"
   ]
  },
  {
   "cell_type": "markdown",
   "id": "ef1c28a5",
   "metadata": {},
   "source": [
    "Trong bài này, ta sẽ dùng dữ liệu đã được thu thập sẵn là file \"healthcare-dataset-stroke-data.csv\" đính kèm; đây là dữ liệu về một căn bệnh cực kì nguy hiểm và luôn nằm top đầu trong những căn bệnh gây tử vong cho con người. Dữ liệu này được lấy từ kaggle, bản quyền thuộc về tác giả [fedesoriano](https://www.kaggle.com/fedesoriano) và gốc của dữ liệu là [ở đây](https://www.kaggle.com/fedesoriano/stroke-prediction-dataset).\n",
    "\n",
    "Cụ thể, dataset này cho chúng ta các thông số về đột quỵ, nhiều yếu tố gây nên như tuổi tác, giới tính, tiền sử bệnh tim, hút thuốc,... Từ đó, qua phân tích những dữ liệu này chúng ta có thể đưa ra một vài dự đoán để giúp mọi người có các biện pháp phòng tránh phù hợp."
   ]
  },
  {
   "cell_type": "markdown",
   "id": "da8be716",
   "metadata": {},
   "source": [
    "## Khám phá dữ liệu"
   ]
  },
  {
   "cell_type": "markdown",
   "id": "2243eca1",
   "metadata": {},
   "source": [
    "### Đọc dữ liệu từ file csv vào dataframe"
   ]
  },
  {
   "cell_type": "code",
   "execution_count": 36,
   "id": "6fe41818",
   "metadata": {},
   "outputs": [
    {
     "data": {
      "text/html": [
       "<div>\n",
       "<style scoped>\n",
       "    .dataframe tbody tr th:only-of-type {\n",
       "        vertical-align: middle;\n",
       "    }\n",
       "\n",
       "    .dataframe tbody tr th {\n",
       "        vertical-align: top;\n",
       "    }\n",
       "\n",
       "    .dataframe thead th {\n",
       "        text-align: right;\n",
       "    }\n",
       "</style>\n",
       "<table border=\"1\" class=\"dataframe\">\n",
       "  <thead>\n",
       "    <tr style=\"text-align: right;\">\n",
       "      <th></th>\n",
       "      <th>id</th>\n",
       "      <th>gender</th>\n",
       "      <th>age</th>\n",
       "      <th>hypertension</th>\n",
       "      <th>heart_disease</th>\n",
       "      <th>ever_married</th>\n",
       "      <th>work_type</th>\n",
       "      <th>Residence_type</th>\n",
       "      <th>avg_glucose_level</th>\n",
       "      <th>bmi</th>\n",
       "      <th>smoking_status</th>\n",
       "      <th>stroke</th>\n",
       "    </tr>\n",
       "  </thead>\n",
       "  <tbody>\n",
       "    <tr>\n",
       "      <th>0</th>\n",
       "      <td>9046</td>\n",
       "      <td>Male</td>\n",
       "      <td>67.0</td>\n",
       "      <td>0</td>\n",
       "      <td>1</td>\n",
       "      <td>Yes</td>\n",
       "      <td>Private</td>\n",
       "      <td>Urban</td>\n",
       "      <td>228.69</td>\n",
       "      <td>36.6</td>\n",
       "      <td>formerly smoked</td>\n",
       "      <td>1</td>\n",
       "    </tr>\n",
       "    <tr>\n",
       "      <th>1</th>\n",
       "      <td>51676</td>\n",
       "      <td>Female</td>\n",
       "      <td>61.0</td>\n",
       "      <td>0</td>\n",
       "      <td>0</td>\n",
       "      <td>Yes</td>\n",
       "      <td>Self-employed</td>\n",
       "      <td>Rural</td>\n",
       "      <td>202.21</td>\n",
       "      <td>NaN</td>\n",
       "      <td>never smoked</td>\n",
       "      <td>1</td>\n",
       "    </tr>\n",
       "    <tr>\n",
       "      <th>2</th>\n",
       "      <td>31112</td>\n",
       "      <td>Male</td>\n",
       "      <td>80.0</td>\n",
       "      <td>0</td>\n",
       "      <td>1</td>\n",
       "      <td>Yes</td>\n",
       "      <td>Private</td>\n",
       "      <td>Rural</td>\n",
       "      <td>105.92</td>\n",
       "      <td>32.5</td>\n",
       "      <td>never smoked</td>\n",
       "      <td>1</td>\n",
       "    </tr>\n",
       "    <tr>\n",
       "      <th>3</th>\n",
       "      <td>60182</td>\n",
       "      <td>Female</td>\n",
       "      <td>49.0</td>\n",
       "      <td>0</td>\n",
       "      <td>0</td>\n",
       "      <td>Yes</td>\n",
       "      <td>Private</td>\n",
       "      <td>Urban</td>\n",
       "      <td>171.23</td>\n",
       "      <td>34.4</td>\n",
       "      <td>smokes</td>\n",
       "      <td>1</td>\n",
       "    </tr>\n",
       "    <tr>\n",
       "      <th>4</th>\n",
       "      <td>1665</td>\n",
       "      <td>Female</td>\n",
       "      <td>79.0</td>\n",
       "      <td>1</td>\n",
       "      <td>0</td>\n",
       "      <td>Yes</td>\n",
       "      <td>Self-employed</td>\n",
       "      <td>Rural</td>\n",
       "      <td>174.12</td>\n",
       "      <td>24.0</td>\n",
       "      <td>never smoked</td>\n",
       "      <td>1</td>\n",
       "    </tr>\n",
       "  </tbody>\n",
       "</table>\n",
       "</div>"
      ],
      "text/plain": [
       "      id  gender   age  hypertension  heart_disease ever_married  \\\n",
       "0   9046    Male  67.0             0              1          Yes   \n",
       "1  51676  Female  61.0             0              0          Yes   \n",
       "2  31112    Male  80.0             0              1          Yes   \n",
       "3  60182  Female  49.0             0              0          Yes   \n",
       "4   1665  Female  79.0             1              0          Yes   \n",
       "\n",
       "       work_type Residence_type  avg_glucose_level   bmi   smoking_status  \\\n",
       "0        Private          Urban             228.69  36.6  formerly smoked   \n",
       "1  Self-employed          Rural             202.21   NaN     never smoked   \n",
       "2        Private          Rural             105.92  32.5     never smoked   \n",
       "3        Private          Urban             171.23  34.4           smokes   \n",
       "4  Self-employed          Rural             174.12  24.0     never smoked   \n",
       "\n",
       "   stroke  \n",
       "0       1  \n",
       "1       1  \n",
       "2       1  \n",
       "3       1  \n",
       "4       1  "
      ]
     },
     "execution_count": 36,
     "metadata": {},
     "output_type": "execute_result"
    }
   ],
   "source": [
    "stroke_df = pd.read_csv('healthcare-dataset-stroke-data.csv')\n",
    "stroke_df.head()"
   ]
  },
  {
   "cell_type": "markdown",
   "id": "de53446b",
   "metadata": {},
   "source": [
    "### Dữ liệu gồm bao nhiêu dòng và bao nhiêu cột"
   ]
  },
  {
   "cell_type": "markdown",
   "id": "ab4ed9c0",
   "metadata": {},
   "source": [
    "(num_rows, num_cols) = stroke_df.shape\n",
    "print(num_rows)\n",
    "print(num_cols)"
   ]
  },
  {
   "cell_type": "markdown",
   "id": "5ef3adb2",
   "metadata": {},
   "source": [
    "Vậy là dữ liệu gồm 5110 dòng và 12 cột"
   ]
  },
  {
   "cell_type": "markdown",
   "id": "2a40a245",
   "metadata": {},
   "source": [
    "### Mỗi dòng có ý nghĩa gì? Có vấn đề các dòng có ý nghĩa khác nhau không?"
   ]
  },
  {
   "cell_type": "markdown",
   "id": "b3ce4220",
   "metadata": {},
   "source": [
    "Theo quan sát sơ bộ về dữ liệu thì một dòng cho biết thông tin của một người về các yếu tố ảnh hưởng đến bênh đột quỵ. Có vẻ không có dòng nào bị \"lạc loài\"."
   ]
  },
  {
   "cell_type": "markdown",
   "id": "c69e8dd3",
   "metadata": {},
   "source": [
    "### Dữ liệu có các dòng bị lặp không?"
   ]
  },
  {
   "cell_type": "code",
   "execution_count": 37,
   "id": "c7b2fa7b",
   "metadata": {},
   "outputs": [
    {
     "data": {
      "text/plain": [
       "False"
      ]
     },
     "execution_count": 37,
     "metadata": {},
     "output_type": "execute_result"
    }
   ],
   "source": [
    "have_duplicated_rows = any(stroke_df.duplicated())\n",
    "have_duplicated_rows"
   ]
  },
  {
   "cell_type": "markdown",
   "id": "363144cd",
   "metadata": {},
   "source": [
    "Dữ liệu các dòng không bị lặp"
   ]
  },
  {
   "cell_type": "markdown",
   "id": "631e3586",
   "metadata": {},
   "source": [
    "### Mỗi cột có ý nghĩa gì?"
   ]
  },
  {
   "cell_type": "markdown",
   "id": "34cb6f13",
   "metadata": {},
   "source": [
    "Dưới đây là phần mô tả của khóa học \"The Analytics Edge\" về các cột trong file \"mvt.csv\":\n",
    "- **id**: mã định danh duy nhất cho mỗi người\n",
    "- **gender**: giới tính (\"Male\": Nam, \"Female\": Nữ, \"Other\": Giới tính khác).\n",
    "- **age**: tuổi tác.\n",
    "- **hypertension**: có bị huyết áp cao hay không (0: Không, 1: Có).\n",
    "- **heart_disease**: có bị bệnh tim hay không (0: Không, 1: Có).\n",
    "- **ever_married**: đã từng kết hôn chưa (\"Yes\": có, \"No\": không).\n",
    "- **work_type**: loại công việc (\"Children\": trẻ con, \"Govt_jov\": công việc chính phủ, \"Never_worked\": chưa từng làm việc, \"Private\": riêng tư, \"Self-employed\": tự kinh doanh).\n",
    "- **Residence_type**: loại khu vực cư trú (\"Rural\": nông thôn, \"Urban\": đô thị)\n",
    "- **avg_glucose_level**: mức đường huyết trung bình.\n",
    "- **bmi**: chỉ số bmi của mỗi người.\n",
    "- **smoking_status**: tình trạng hút thuốc (\"formerly smoked\": đã từng hút thuốc trước kia, \"never smoked\": chưa bao giờ hút thuốc, \"smokes\": có hút thuốc, \"Unknown\": Không rõ thông tin)\n",
    "- **stroke**: kết quả có bị đột quỵ hay không (0: không, 1: có)."
   ]
  },
  {
   "cell_type": "markdown",
   "id": "87ef5105",
   "metadata": {},
   "source": [
    "### Mỗi cột hiện đang có kiểu dữ liệu gì? Có cột nào có kiểu dữ liệu chưa phù hợp để có thể xử lý tiếp không?"
   ]
  },
  {
   "cell_type": "code",
   "execution_count": 38,
   "id": "d2b0c051",
   "metadata": {},
   "outputs": [
    {
     "data": {
      "text/plain": [
       "id                     int64\n",
       "gender                object\n",
       "age                  float64\n",
       "hypertension           int64\n",
       "heart_disease          int64\n",
       "ever_married          object\n",
       "work_type             object\n",
       "Residence_type        object\n",
       "avg_glucose_level    float64\n",
       "bmi                  float64\n",
       "smoking_status        object\n",
       "stroke                 int64\n",
       "dtype: object"
      ]
     },
     "execution_count": 38,
     "metadata": {},
     "output_type": "execute_result"
    }
   ],
   "source": [
    "stroke_df.dtypes"
   ]
  },
  {
   "cell_type": "markdown",
   "id": "cba23913",
   "metadata": {},
   "source": [
    "**Vấn đề cần tiền xử lý:**\n",
    "\n",
    "- Cột \"age\" đang có dtype là `float64`. Để có thể tiếp tục khám phá thêm về cột này, ta sẽ thực hiện bước tiền xử lý là chuyển sang dạng `int64`."
   ]
  },
  {
   "cell_type": "markdown",
   "id": "5358fdf9",
   "metadata": {},
   "source": [
    "## Tiền xử lý"
   ]
  },
  {
   "cell_type": "markdown",
   "id": "37f4b363",
   "metadata": {},
   "source": [
    "### Chuyển dtype của cột \"age\" sang int "
   ]
  },
  {
   "cell_type": "markdown",
   "id": "188870a0",
   "metadata": {},
   "source": [
    "Trước khi chuyển ta sẽ làm tròn giá trị để tránh sai dữ liệu."
   ]
  },
  {
   "cell_type": "code",
   "execution_count": 39,
   "id": "78d76592",
   "metadata": {},
   "outputs": [],
   "source": [
    "stroke_df['age'] = stroke_df['age'].apply(math.ceil)\n",
    "stroke_df['age'] = stroke_df['age'].astype(\"int\")"
   ]
  },
  {
   "cell_type": "markdown",
   "id": "e25ab2b2",
   "metadata": {},
   "source": [
    "## Khám phá dữ liệu (tiếp tục)"
   ]
  },
  {
   "cell_type": "markdown",
   "id": "6a696157",
   "metadata": {},
   "source": [
    "### Với mỗi cột có kiểu dữ liệu dạng numeric, các giá trị được phân bố như thế nào?"
   ]
  },
  {
   "cell_type": "markdown",
   "id": "97ecbd71",
   "metadata": {},
   "source": [
    "Hiện có 8 cột có vẻ là thuộc nhóm numeric: \"id\",\"age\",\"hypertension\",\"heart_disease\",\"avg_glucose_level\",\"bmi\" và \"stroke\". Tuy nhiên, 4 cột \"id\",\"hypertension\",\"heart_disease\" và \"stroke\"  thật ra là dạng categorical (vì là mã được đánh dưới dạng số). Như vậy, chỉ có 3 cột numeric là \"age\",\"avg_glucose_level\" và \"bmi\". \n",
    "\n",
    "Với mỗi cột numeric ta sẽ tính tỉ lệ % giá trị thiếu (từ 0 đến 100), min, max đồng thời lưu kết quả vào dataframe `nume_col_profiles_df`. Dataframe này có 3 dòng là \"missing_ratio\", \"min\", \"max\"; và có 3 cột là \"age\",\"avg_glucose_level\" và \"bmi\".  "
   ]
  },
  {
   "cell_type": "code",
   "execution_count": 40,
   "id": "6457b99a",
   "metadata": {},
   "outputs": [
    {
     "data": {
      "text/html": [
       "<div>\n",
       "<style scoped>\n",
       "    .dataframe tbody tr th:only-of-type {\n",
       "        vertical-align: middle;\n",
       "    }\n",
       "\n",
       "    .dataframe tbody tr th {\n",
       "        vertical-align: top;\n",
       "    }\n",
       "\n",
       "    .dataframe thead th {\n",
       "        text-align: right;\n",
       "    }\n",
       "</style>\n",
       "<table border=\"1\" class=\"dataframe\">\n",
       "  <thead>\n",
       "    <tr style=\"text-align: right;\">\n",
       "      <th></th>\n",
       "      <th>age</th>\n",
       "      <th>avg_glucose_level</th>\n",
       "      <th>bmi</th>\n",
       "    </tr>\n",
       "  </thead>\n",
       "  <tbody>\n",
       "    <tr>\n",
       "      <th>missing_ratio</th>\n",
       "      <td>0.0</td>\n",
       "      <td>0.00</td>\n",
       "      <td>3.933464</td>\n",
       "    </tr>\n",
       "    <tr>\n",
       "      <th>min</th>\n",
       "      <td>1.0</td>\n",
       "      <td>55.12</td>\n",
       "      <td>10.300000</td>\n",
       "    </tr>\n",
       "    <tr>\n",
       "      <th>max</th>\n",
       "      <td>82.0</td>\n",
       "      <td>271.74</td>\n",
       "      <td>97.600000</td>\n",
       "    </tr>\n",
       "  </tbody>\n",
       "</table>\n",
       "</div>"
      ],
      "text/plain": [
       "                age  avg_glucose_level        bmi\n",
       "missing_ratio   0.0               0.00   3.933464\n",
       "min             1.0              55.12  10.300000\n",
       "max            82.0             271.74  97.600000"
      ]
     },
     "execution_count": 40,
     "metadata": {},
     "output_type": "execute_result"
    }
   ],
   "source": [
    "def missing_ratio(s): #với s là một cột được chọn\n",
    "    return s.isna().mean() * 100\n",
    "nume_col_profiles_df = stroke_df[[\"age\",\"avg_glucose_level\",\"bmi\"]].agg([missing_ratio,min,max])\n",
    "nume_col_profiles_df"
   ]
  },
  {
   "cell_type": "markdown",
   "id": "510693fd",
   "metadata": {},
   "source": [
    "### Với mỗi cột có kiểu dữ liệu dạng categorical, các giá trị được phân bố như thế nào?"
   ]
  },
  {
   "cell_type": "markdown",
   "id": "f8850139",
   "metadata": {},
   "source": [
    "`stroke_df` có 9 cột categorical là \"id\",\"hypertension\",\"heart_disease\",\"stroke\",\"gender\",\"work_type\",\"ever_married\",\"smoking_status\" và \"Residence_type\".\n",
    "\n",
    "Với mỗi cột categorical, ta tính tỉ lệ % giá trị thiếu (từ 0 đến 100), số lượng giá trị khác nhau (không xét giá trị thiếu), list/array các giá trị khác nhau (không xét giá trị thiếu), sau đó lưu kết quả vào dataframe `cate_col_profiles_df`. Dataframe này có 3 dòng là \"missing_ratio\", \"num_diff_vals\", \"diff_vals\"; và có 9 cột là \"id\",\"hypertension\",\"heart_disease\",\"stroke\",\"gender\",\"work_type\",\"ever_married\",\"smoking_status\" và \"Residence_type\"."
   ]
  },
  {
   "cell_type": "code",
   "execution_count": 30,
   "id": "28ae5ff3",
   "metadata": {},
   "outputs": [
    {
     "data": {
      "text/html": [
       "<div>\n",
       "<style scoped>\n",
       "    .dataframe tbody tr th:only-of-type {\n",
       "        vertical-align: middle;\n",
       "    }\n",
       "\n",
       "    .dataframe tbody tr th {\n",
       "        vertical-align: top;\n",
       "    }\n",
       "\n",
       "    .dataframe thead th {\n",
       "        text-align: right;\n",
       "    }\n",
       "</style>\n",
       "<table border=\"1\" class=\"dataframe\">\n",
       "  <thead>\n",
       "    <tr style=\"text-align: right;\">\n",
       "      <th></th>\n",
       "      <th>id</th>\n",
       "      <th>hypertension</th>\n",
       "      <th>heart_disease</th>\n",
       "      <th>stroke</th>\n",
       "      <th>gender</th>\n",
       "      <th>work_type</th>\n",
       "      <th>Residence_type</th>\n",
       "      <th>ever_married</th>\n",
       "      <th>smoking_status</th>\n",
       "    </tr>\n",
       "  </thead>\n",
       "  <tbody>\n",
       "    <tr>\n",
       "      <th>missing_ratio</th>\n",
       "      <td>0.0</td>\n",
       "      <td>0.0</td>\n",
       "      <td>0.0</td>\n",
       "      <td>0.0</td>\n",
       "      <td>0.0</td>\n",
       "      <td>0.0</td>\n",
       "      <td>0.0</td>\n",
       "      <td>0.0</td>\n",
       "      <td>0.0</td>\n",
       "    </tr>\n",
       "    <tr>\n",
       "      <th>num_diff_vals</th>\n",
       "      <td>5110</td>\n",
       "      <td>2</td>\n",
       "      <td>2</td>\n",
       "      <td>2</td>\n",
       "      <td>3</td>\n",
       "      <td>5</td>\n",
       "      <td>2</td>\n",
       "      <td>2</td>\n",
       "      <td>4</td>\n",
       "    </tr>\n",
       "    <tr>\n",
       "      <th>diff_vals</th>\n",
       "      <td>[9046, 51676, 31112, 60182, 1665, 56669, 53882...</td>\n",
       "      <td>[0, 1]</td>\n",
       "      <td>[1, 0]</td>\n",
       "      <td>[1, 0]</td>\n",
       "      <td>[Male, Female, Other]</td>\n",
       "      <td>[Private, Self-employed, Govt_job, children, N...</td>\n",
       "      <td>[Urban, Rural]</td>\n",
       "      <td>[Yes, No]</td>\n",
       "      <td>[formerly smoked, never smoked, smokes, Unknown]</td>\n",
       "    </tr>\n",
       "  </tbody>\n",
       "</table>\n",
       "</div>"
      ],
      "text/plain": [
       "                                                              id hypertension  \\\n",
       "missing_ratio                                                0.0          0.0   \n",
       "num_diff_vals                                               5110            2   \n",
       "diff_vals      [9046, 51676, 31112, 60182, 1665, 56669, 53882...       [0, 1]   \n",
       "\n",
       "              heart_disease  stroke                 gender  \\\n",
       "missing_ratio           0.0     0.0                    0.0   \n",
       "num_diff_vals             2       2                      3   \n",
       "diff_vals            [1, 0]  [1, 0]  [Male, Female, Other]   \n",
       "\n",
       "                                                       work_type  \\\n",
       "missing_ratio                                                0.0   \n",
       "num_diff_vals                                                  5   \n",
       "diff_vals      [Private, Self-employed, Govt_job, children, N...   \n",
       "\n",
       "               Residence_type ever_married  \\\n",
       "missing_ratio             0.0          0.0   \n",
       "num_diff_vals               2            2   \n",
       "diff_vals      [Urban, Rural]    [Yes, No]   \n",
       "\n",
       "                                                 smoking_status  \n",
       "missing_ratio                                               0.0  \n",
       "num_diff_vals                                                 4  \n",
       "diff_vals      [formerly smoked, never smoked, smokes, Unknown]  "
      ]
     },
     "execution_count": 30,
     "metadata": {},
     "output_type": "execute_result"
    }
   ],
   "source": [
    "def num_diff_vals(s):\n",
    "    return s.nunique()\n",
    "def diff_vals(s):\n",
    "    return s.dropna().unique()\n",
    "cate_col_profiles_df = stroke_df[[\"id\",\"hypertension\",\"heart_disease\",\"stroke\",\"gender\",\"work_type\",\"Residence_type\",\n",
    "                                  \"ever_married\",\"smoking_status\"]].agg([missing_ratio, num_diff_vals, diff_vals])\n",
    "cate_col_profiles_df"
   ]
  },
  {
   "cell_type": "code",
   "execution_count": null,
   "id": "352731db",
   "metadata": {},
   "outputs": [],
   "source": []
  }
 ],
 "metadata": {
  "kernelspec": {
   "display_name": "Python 3 (ipykernel)",
   "language": "python",
   "name": "python3"
  },
  "language_info": {
   "codemirror_mode": {
    "name": "ipython",
    "version": 3
   },
   "file_extension": ".py",
   "mimetype": "text/x-python",
   "name": "python",
   "nbconvert_exporter": "python",
   "pygments_lexer": "ipython3",
   "version": "3.8.8"
  }
 },
 "nbformat": 4,
 "nbformat_minor": 5
}
